{
 "cells": [
  {
   "cell_type": "code",
   "execution_count": 1,
   "metadata": {},
   "outputs": [
    {
     "name": "stderr",
     "output_type": "stream",
     "text": [
      "┌ Info: Precompiling HardSphereDynamics [2cbf6e9d-eec9-4262-aa18-cb9280186e6b]\n",
      "└ @ Base loading.jl:1278\n"
     ]
    }
   ],
   "source": [
    "using SpecialFunctions, IterTools, HardSphereDynamics, StatsBase # For Std Error."
   ]
  },
  {
   "cell_type": "markdown",
   "metadata": {},
   "source": [
    "Aqui abajo Rosa define todos los resultados téoricos para cualquier número de dimensiones, siempre\n",
    "que no haya \"sombras prohibidas\" (es decir, que las bolas siempre quepan unas al lado de otras)."
   ]
  },
  {
   "cell_type": "code",
   "execution_count": 2,
   "metadata": {},
   "outputs": [
    {
     "data": {
      "text/plain": [
       "CollisionTimesTheo (generic function with 3 methods)"
      ]
     },
     "execution_count": 2,
     "metadata": {},
     "output_type": "execute_result"
    }
   ],
   "source": [
    "\n",
    "function SphereArea(n)\n",
    "    return 2*(pi^(n/2))/gamma(n/2)\n",
    "end\n",
    "\n",
    "function NormalizationFactor(n, balls=2)\n",
    "    d = 2*n\n",
    "    return SphereArea(d)/SphereArea(d-1)*(d-1)\n",
    "end\n",
    "\n",
    "function Ak(boxdims,m)\n",
    "    result = 0\n",
    "    for aks in subsets(boxdims, m)\n",
    "        result += prod(aks)\n",
    "    end\n",
    "    return result\n",
    "end\n",
    "\n",
    "function AvailableVolume(n, boxdims, r)\n",
    "    vol = prod((2*boxdims).^2)\n",
    "    for k in 0:n\n",
    "        vol -= (4^n)*(pi)^(n/2-k/2)*r^(k+n)/gamma(k/2+n/2+1)*Ak(boxdims, n-k)*(-1)^k\n",
    "    end\n",
    "    return vol\n",
    "end\n",
    "\n",
    "function SphereCollisionArea(n, boxdims, r)\n",
    "    area = 0 \n",
    "    for k in 0:n\n",
    "        area += 2^(2*n+1/2)*(pi^(n/2-k/2))*(r^(k+n-1))/gamma(k/2+n/2)*Ak(boxdims, n-k)*(-1)^k\n",
    "    end\n",
    "    return area\n",
    "end\n",
    "\n",
    "function WallCollisionArea(n, boxdims, r, dim)\n",
    "    otherboxdims = deleteat!(copy(boxdims),dim)\n",
    "    area = prod((2*otherboxdims).^2)*(2*boxdims[dim])\n",
    "    for k in 0:(n-1)\n",
    "        area -= 2^(2*n-2)*(pi^(n/2 - k/2))*(r^(k+n))/gamma(k/2+n/2+1)*(-1)^k*Ak(otherboxdims, n-1-k)\n",
    "    end\n",
    "    return area\n",
    "end\n",
    "\n",
    "function SphereCollisionTime(n, boxdimsh, r)\n",
    "    boxdimsa = boxdimsh/2 .- r \n",
    "    return NormalizationFactor(n)*AvailableVolume(n, boxdimsa, r)/SphereCollisionArea(n, boxdimsa, r)\n",
    "end\n",
    "\n",
    "function WallCollisionTime(n, boxdimsh, r, dim)\n",
    "    boxdimsa = boxdimsh/2 .- r \n",
    "    return NormalizationFactor(n)*AvailableVolume(n, boxdimsa, r)/WallCollisionArea(n, boxdimsa, r, dim)\n",
    "end\n",
    "    \n",
    "function HoppingCollisionTime(n, boxdimsh, r, dim)\n",
    "    boxdimsa = boxdimsh/2 .- r \n",
    "    otherboxdims = deleteat!(copy(boxdimsa),dim)\n",
    "    #if r < minimum(boxdimsh)/4\n",
    "        result= NormalizationFactor(n)*AvailableVolume(n, boxdimsa, r)/\n",
    "           AvailableVolume(n-1, otherboxdims, r)/2^(2.5)/boxdimsa[dim]\n",
    "    #else\n",
    "    #    result=1.0\n",
    "    #end\n",
    "    \n",
    "end\n",
    "\n",
    "function CollisionTimesTheo(r, n=3, boxdimsh = [1.0, 1.5, 1.75])\n",
    "    wall_times = []\n",
    "    hop_times = []\n",
    "    for dim in 1:n\n",
    "        w = WallCollisionTime(n, boxdimsh, r, dim)\n",
    "        push!(wall_times, w, w)\n",
    "        push!(hop_times, HoppingCollisionTime(n, boxdimsh, r, dim))\n",
    "    end\n",
    "    result = hcat(r , SphereCollisionTime(n, boxdimsh, r), wall_times..., hop_times...)\n",
    "    return result\n",
    "end"
   ]
  },
  {
   "cell_type": "code",
   "execution_count": 21,
   "metadata": {},
   "outputs": [
    {
     "data": {
      "text/plain": [
       "CollisionTimesSim (generic function with 5 methods)"
      ]
     },
     "execution_count": 21,
     "metadata": {},
     "output_type": "execute_result"
    }
   ],
   "source": [
    "using Parameters, Statistics, HardSphereDynamics, StaticArrays\n",
    "\n",
    "function BallsRelativeSign(state)\n",
    "    b1, b2 = state\n",
    "    return broadcast(sign, b1.x - b2.x)\n",
    "end\n",
    "\n",
    "function mean_interval(times)\n",
    "    return mean(diff(times))\n",
    "end\n",
    "\n",
    "h1 = 1.0\n",
    "h2 = 1.75\n",
    "h3 = 1.33\n",
    "r = 0.1\n",
    "rmax=  (h1+h3-√(2*h1*h3))/2   #maximal possible radius hopping in h2 direction\n",
    "\n",
    "Nmax=10^8\n",
    "\n",
    "function CollisionTimesSim(r, h1 = h1, h2 = h2, h3 = h3 ,num_collisions = Nmax)\n",
    "    table = HardSphereDynamics.RectangularBox(SA[-h1/2, -h2/2, -h3/2],\n",
    "                                              SA[+h1/2, +h2/2, +h3/2])\n",
    "\n",
    "    n = 3\n",
    "    spheres = 2\n",
    "    fluid = HardSphereFluid{n,Float64}(table, spheres, r)\n",
    "    initial_condition!(fluid.balls, table)\n",
    "\n",
    "    # set up simulation:\n",
    "    collision_type = ElasticCollision()\n",
    "    flow_type = ExternalFieldFlow(SA[0.0, 0.0, 0.0])\n",
    "    event_handler = AllToAll(fluid, flow_type)\n",
    "\n",
    "    simulation =  HardSphereSimulation(\n",
    "        fluid, event_handler, flow_type, collision_type);\n",
    "\n",
    "    @unpack fluid, flow_dynamics, collision_dynamics, event_handler = simulation\n",
    "    states = [deepcopy(fluid.balls)]\n",
    "    times = [0.0]\n",
    "    collision_types = [:none]\n",
    "    partner2 = [0] \n",
    "    partner1 = [0]\n",
    "    hopping_times = []\n",
    "    hopping_directions = []\n",
    "    for i in 1:num_collisions\n",
    "        HardSphereDynamics.flow!(fluid.balls, (event_handler.next_collision_time - simulation.current_time), \n",
    "            flow_dynamics)\n",
    "        simulation.current_time = event_handler.next_collision_time\n",
    "        push!(collision_types, event_handler.collision_type)\n",
    "        push!(partner2, event_handler.partner2)\n",
    "        push!(partner1, event_handler.partner1)\n",
    "        HardSphereDynamics.collide!(fluid, event_handler, collision_dynamics)\n",
    "        HardSphereDynamics.find_collision!(event_handler, fluid, flow_dynamics)\n",
    "        push!(states, deepcopy(fluid.balls))\n",
    "        push!(times, simulation.current_time)\n",
    "        prev, current = states[i:i+1]\n",
    "        signprev, signcurrent = broadcast(BallsRelativeSign,[prev, current])\n",
    "        if any(signprev .!= signcurrent)\n",
    "            b1, b2 = states[i]\n",
    "            start_time, final_time = times[i:i+1]\n",
    "            hop_times = start_time .+( b1.x - b2.x)./(b2.v - b1.v)\n",
    "            for (dir, time) in enumerate(hop_times)\n",
    "                if all([time>=start_time, time<=final_time])\n",
    "                    push!(hopping_times, time)\n",
    "                    push!(hopping_directions, dir)\n",
    "                end\n",
    "            end\n",
    "        end\n",
    "    end\n",
    "    \n",
    "    wall_idx = (collision_types.== :wall_collision).&(partner1.== 1)\n",
    "    wall_times = times[wall_idx];\n",
    "    which_wall = partner2[wall_idx];\n",
    "    wall_means = []\n",
    "    \n",
    "    # The std errros are no longer missin!\n",
    "    wall_errors = []\n",
    "    hop_errors  = []\n",
    "    \n",
    "    for i in 1:length(fluid.box.walls)\n",
    "        \n",
    "        enparedcorrecta=wall_times[which_wall .== i]\n",
    "        error=sem(diff(enparedcorrecta))\n",
    "        nn=length(enparedcorrecta)\n",
    "     #   println( \" En la pared $i, chocamos $nn veces\")\n",
    "        \n",
    "        push!(wall_means,mean_interval(enparedcorrecta))\n",
    "        push!(wall_errors, error)\n",
    "        \n",
    "    end\n",
    "    \n",
    "    hop_means = []\n",
    "    hop_errors= []\n",
    "\n",
    "    for i in 1:n\n",
    "        \n",
    "        cual_hop=hopping_times[hopping_directions .== i]\n",
    "        ll=length(cual_hop)\n",
    "        if ll > 2\n",
    "            error=sem(diff(cual_hop))\n",
    "        println(\"en el hop direccion $i, hopamos $ll veces con radio $r\")\n",
    "            push!(hop_means, mean_interval(cual_hop))\n",
    "            push!(hop_errors, error)\n",
    "        else\n",
    "            push!(hop_means, NaN)\n",
    "            push!(hop_errors, NaN)\n",
    "        end\n",
    "        \n",
    "    end\n",
    "    \n",
    "    colision=times[collision_types.== :disc_collision]\n",
    "    meandisc=mean_interval(colision)\n",
    "    errorcol=sem(diff(colision))\n",
    "    \n",
    "    \n",
    "    result=hcat(r, meandisc, errorcol,wall_means..., wall_errors..., hop_means..., hop_errors...)\n",
    "    \n",
    "    return result\n",
    "        \n",
    "end"
   ]
  },
  {
   "cell_type": "code",
   "execution_count": 22,
   "metadata": {},
   "outputs": [
    {
     "data": {
      "text/plain": [
       "0.34952467848499547"
      ]
     },
     "execution_count": 22,
     "metadata": {},
     "output_type": "execute_result"
    }
   ],
   "source": [
    "rmax"
   ]
  },
  {
   "cell_type": "code",
   "execution_count": 23,
   "metadata": {
    "scrolled": true
   },
   "outputs": [
    {
     "name": "stdout",
     "output_type": "stream",
     "text": [
      "en el hop direccion 1, hopamos 23901568 veces con radio 0.21\n",
      "en el hop direccion 2, hopamos 6462456 veces con radio 0.21\n",
      "en el hop direccion 3, hopamos 12782843 veces con radio 0.21\n",
      "1664.642725 seconds (2.10 G allocations: 132.945 GiB, 46.96% gc time)\n"
     ]
    },
    {
     "data": {
      "text/plain": [
       "1×21 Array{Float64,2}:\n",
       " 0.21  2.59037  0.000698368  3.13187  …  0.000249759  0.0022214  0.000714641"
      ]
     },
     "execution_count": 23,
     "metadata": {},
     "output_type": "execute_result"
    }
   ],
   "source": [
    "@time chin, pun, cuaz, el, eslam = CollisionTimesSim(0.21)"
   ]
  },
  {
   "cell_type": "code",
   "execution_count": 24,
   "metadata": {},
   "outputs": [
    {
     "data": {
      "text/plain": [
       "0.34952467848499547"
      ]
     },
     "execution_count": 24,
     "metadata": {},
     "output_type": "execute_result"
    }
   ],
   "source": [
    "rmax"
   ]
  },
  {
   "cell_type": "code",
   "execution_count": 26,
   "metadata": {},
   "outputs": [
    {
     "data": {
      "text/plain": [
       "33-element Array{Float64,1}:\n",
       " 0.349479278555233\n",
       " 0.3494663838212646\n",
       " 0.34944982665510776\n",
       " 0.34942856683293405\n",
       " 0.34940126868090876\n",
       " 0.3493662171598797\n",
       " 0.3493212101159848\n",
       " 0.3492634199276938\n",
       " 0.34918921585709295\n",
       " 0.3490939359444198\n",
       " 0.3489715941148476\n",
       " 0.34881450409615294\n",
       " 0.34861279651944094\n",
       " ⋮\n",
       " 0.3408729832818748\n",
       " 0.33841568194675314\n",
       " 0.3352604445759962\n",
       " 0.3312090395962613\n",
       " 0.32600693262898633\n",
       " 0.319327295062677\n",
       " 0.31075047065327344\n",
       " 0.2997376101171315\n",
       " 0.2855968172782879\n",
       " 0.2674396798610967\n",
       " 0.24412545392313112\n",
       " 0.21418939524838276"
      ]
     },
     "execution_count": 26,
     "metadata": {},
     "output_type": "execute_result"
    }
   ],
   "source": [
    "deltaslog=-10:0.25:-2\n",
    "rs=rmax.-exp.(deltaslog)"
   ]
  },
  {
   "cell_type": "code",
   "execution_count": 27,
   "metadata": {},
   "outputs": [
    {
     "name": "stdout",
     "output_type": "stream",
     "text": [
      "en el hop direccion 1, hopamos 22351751 veces con radio 0.349479278555233\n",
      "en el hop direccion 3, hopamos 8352572 veces con radio 0.349479278555233\n",
      "en el hop direccion 1, hopamos 22327418 veces con radio 0.3494663838212646\n",
      "en el hop direccion 3, hopamos 8363451 veces con radio 0.3494663838212646\n",
      "en el hop direccion 1, hopamos 22345740 veces con radio 0.34944982665510776\n",
      "en el hop direccion 3, hopamos 8366437 veces con radio 0.34944982665510776\n",
      "en el hop direccion 1, hopamos 22337151 veces con radio 0.34942856683293405\n",
      "en el hop direccion 3, hopamos 8361491 veces con radio 0.34942856683293405\n",
      "en el hop direccion 1, hopamos 22311408 veces con radio 0.34940126868090876\n",
      "en el hop direccion 3, hopamos 8355779 veces con radio 0.34940126868090876\n",
      "en el hop direccion 1, hopamos 22336346 veces con radio 0.3493662171598797\n",
      "en el hop direccion 3, hopamos 8352526 veces con radio 0.3493662171598797\n",
      "en el hop direccion 1, hopamos 22323257 veces con radio 0.3493212101159848\n",
      "en el hop direccion 3, hopamos 8361382 veces con radio 0.3493212101159848\n",
      "en el hop direccion 1, hopamos 22351905 veces con radio 0.3492634199276938\n",
      "en el hop direccion 3, hopamos 8384501 veces con radio 0.3492634199276938\n",
      "en el hop direccion 1, hopamos 22325541 veces con radio 0.34918921585709295\n",
      "en el hop direccion 3, hopamos 8366776 veces con radio 0.34918921585709295\n",
      "en el hop direccion 1, hopamos 22333166 veces con radio 0.3490939359444198\n",
      "en el hop direccion 3, hopamos 8369793 veces con radio 0.3490939359444198\n",
      "en el hop direccion 1, hopamos 22339632 veces con radio 0.3489715941148476\n",
      "en el hop direccion 3, hopamos 8375317 veces con radio 0.3489715941148476\n",
      "en el hop direccion 1, hopamos 22317482 veces con radio 0.34881450409615294\n",
      "en el hop direccion 3, hopamos 8382762 veces con radio 0.34881450409615294\n",
      "en el hop direccion 1, hopamos 22332094 veces con radio 0.34861279651944094\n",
      "en el hop direccion 3, hopamos 8378179 veces con radio 0.34861279651944094\n",
      "en el hop direccion 1, hopamos 22325149 veces con radio 0.3483537988642043\n",
      "en el hop direccion 3, hopamos 8386292 veces con radio 0.3483537988642043\n",
      "en el hop direccion 1, hopamos 22335402 veces con radio 0.3480212392920179\n",
      "en el hop direccion 2, hopamos 4 veces con radio 0.3480212392920179\n",
      "en el hop direccion 3, hopamos 8405510 veces con radio 0.3480212392920179\n",
      "en el hop direccion 1, hopamos 22340342 veces con radio 0.34759422434876774\n",
      "en el hop direccion 2, hopamos 10 veces con radio 0.34759422434876774\n",
      "en el hop direccion 3, hopamos 8413829 veces con radio 0.34759422434876774\n",
      "en el hop direccion 1, hopamos 22329938 veces con radio 0.3470459263083291\n",
      "en el hop direccion 2, hopamos 25 veces con radio 0.3470459263083291\n",
      "en el hop direccion 3, hopamos 8436002 veces con radio 0.3470459263083291\n",
      "en el hop direccion 1, hopamos 22303110 veces con radio 0.3463418976884858\n",
      "en el hop direccion 2, hopamos 68 veces con radio 0.3463418976884858\n",
      "en el hop direccion 3, hopamos 8440451 veces con radio 0.3463418976884858\n",
      "en el hop direccion 1, hopamos 22330380 veces con radio 0.3454379070465314\n",
      "en el hop direccion 2, hopamos 143 veces con radio 0.3454379070465314\n",
      "en el hop direccion 3, hopamos 8476141 veces con radio 0.3454379070465314\n",
      "en el hop direccion 1, hopamos 22279751 veces con radio 0.3442771600858141\n",
      "en el hop direccion 2, hopamos 414 veces con radio 0.3442771600858141\n",
      "en el hop direccion 3, hopamos 8505637 veces con radio 0.3442771600858141\n",
      "en el hop direccion 1, hopamos 22251082 veces con radio 0.34278673148591\n",
      "en el hop direccion 2, hopamos 1107 veces con radio 0.34278673148591\n",
      "en el hop direccion 3, hopamos 8548355 veces con radio 0.34278673148591\n",
      "en el hop direccion 1, hopamos 22218502 veces con radio 0.3408729832818748\n",
      "en el hop direccion 2, hopamos 2921 veces con radio 0.3408729832818748\n",
      "en el hop direccion 3, hopamos 8558671 veces con radio 0.3408729832818748\n",
      "en el hop direccion 1, hopamos 22118903 veces con radio 0.33841568194675314\n",
      "en el hop direccion 2, hopamos 7473 veces con radio 0.33841568194675314\n",
      "en el hop direccion 3, hopamos 8616802 veces con radio 0.33841568194675314\n",
      "en el hop direccion 1, hopamos 22022927 veces con radio 0.3352604445759962\n",
      "en el hop direccion 2, hopamos 18922 veces con radio 0.3352604445759962\n",
      "en el hop direccion 3, hopamos 8631747 veces con radio 0.3352604445759962\n",
      "en el hop direccion 1, hopamos 21836265 veces con radio 0.3312090395962613\n",
      "en el hop direccion 2, hopamos 51216 veces con radio 0.3312090395962613\n",
      "en el hop direccion 3, hopamos 8657985 veces con radio 0.3312090395962613\n",
      "en el hop direccion 1, hopamos 21657019 veces con radio 0.32600693262898633\n",
      "en el hop direccion 2, hopamos 138874 veces con radio 0.32600693262898633\n",
      "en el hop direccion 3, hopamos 8680070 veces con radio 0.32600693262898633\n",
      "en el hop direccion 1, hopamos 21585574 veces con radio 0.319327295062677\n",
      "en el hop direccion 2, hopamos 314160 veces con radio 0.319327295062677\n",
      "en el hop direccion 3, hopamos 8733000 veces con radio 0.319327295062677\n",
      "en el hop direccion 1, hopamos 21596322 veces con radio 0.31075047065327344\n",
      "en el hop direccion 2, hopamos 611312 veces con radio 0.31075047065327344\n",
      "en el hop direccion 3, hopamos 8834046 veces con radio 0.31075047065327344\n",
      "en el hop direccion 1, hopamos 21741776 veces con radio 0.2997376101171315\n",
      "en el hop direccion 2, hopamos 1062430 veces con radio 0.2997376101171315\n",
      "en el hop direccion 3, hopamos 9026489 veces con radio 0.2997376101171315\n",
      "en el hop direccion 1, hopamos 22002931 veces con radio 0.2855968172782879\n",
      "en el hop direccion 2, hopamos 1715241 veces con radio 0.2855968172782879\n",
      "en el hop direccion 3, hopamos 9345298 veces con radio 0.2855968172782879\n",
      "en el hop direccion 1, hopamos 22354918 veces con radio 0.2674396798610967\n",
      "en el hop direccion 2, hopamos 2634131 veces con radio 0.2674396798610967\n",
      "en el hop direccion 3, hopamos 9832544 veces con radio 0.2674396798610967\n",
      "en el hop direccion 1, hopamos 22689456 veces con radio 0.24412545392313112\n",
      "en el hop direccion 2, hopamos 3959108 veces con radio 0.24412545392313112\n",
      "en el hop direccion 3, hopamos 10662521 veces con radio 0.24412545392313112\n",
      "en el hop direccion 1, hopamos 23713312 veces con radio 0.21418939524838276\n",
      "en el hop direccion 2, hopamos 6131577 veces con radio 0.21418939524838276\n",
      "en el hop direccion 3, hopamos 12491513 veces con radio 0.21418939524838276\n"
     ]
    }
   ],
   "source": [
    "theo = vcat(broadcast(CollisionTimesTheo, rs)...);\n",
    "sim = vcat(broadcast(CollisionTimesSim, rs)...);"
   ]
  },
  {
   "cell_type": "code",
   "execution_count": 13,
   "metadata": {},
   "outputs": [],
   "source": [
    "using JLD"
   ]
  },
  {
   "cell_type": "code",
   "execution_count": 28,
   "metadata": {},
   "outputs": [],
   "source": [
    "nota=\"Los Resultados Teoricos y Simulados estan en dos tablas.\n",
    "Prmero las bolas entre ellas.\n",
    "Luego vienen en Teoricas los golpes con las paredes de un bola \n",
    "contra una pared asi: \n",
    "Columna   Pared\n",
    "3         x positiva\n",
    "4         x negativa\n",
    "5         y positiva\n",
    "6         y negativa\n",
    "7         z positiva\n",
    "8         z negativa\n",
    "Luego vienen los hops, \n",
    "9         hop x\n",
    "10         hop y\n",
    "11        hop z\n",
    "En las simulaciones, entre cada tipo de eventos, en el mismo orden, hay una grupo de columnas \n",
    "de errores estandar. Es decir, despues de choques entre bolas, una columna de error. Despues\n",
    "de seis choques en paredes, vienen seis columnas de error. Y despues de tres columnas de hops, viene\n",
    "tres columnas de error. \n",
    "\"\n",
    "\n",
    "otranota=\"La variable h contiene los tamaños de la caja. \n",
    "La variable Nmax el numero de collisiones total.\n",
    "La variable rmax es el radio limite para cruzar en la direccion h2 (hopping in y direction)\"\n",
    "onde=\"hoppingclosetozero3D-1e8-20210218.jld\"\n",
    "\n",
    "h=(h1,h2,h3)\n",
    "\n",
    "save(onde, \"nota01\", nota, \"nota02\", otranota, \n",
    "    \"teoricas\" , theo, \"numericas\", sim, \"h\", h, \"Nmax\", Nmax, \"rmax\", rmax)\n"
   ]
  },
  {
   "cell_type": "code",
   "execution_count": null,
   "metadata": {},
   "outputs": [],
   "source": []
  },
  {
   "cell_type": "code",
   "execution_count": null,
   "metadata": {},
   "outputs": [],
   "source": [
    "sim[:,17]"
   ]
  },
  {
   "cell_type": "code",
   "execution_count": null,
   "metadata": {},
   "outputs": [],
   "source": [
    "using Plots\n",
    "scatter(rs,sim[:,2])\n",
    "plot!(rs,theo[:,2])\n",
    "title!(\"Disc collisions\")\n",
    "xlabel!(\"r\")\n",
    "ylabel!(\"mean time\")"
   ]
  },
  {
   "cell_type": "code",
   "execution_count": null,
   "metadata": {},
   "outputs": [],
   "source": [
    "scatter(rs,sim[:,4])\n",
    "plot!(rs,theo[:,3])\n",
    "title!(\"X wall collisions\")\n",
    "xlabel!(\"r\")\n",
    "ylabel!(\"mean time\")"
   ]
  },
  {
   "cell_type": "code",
   "execution_count": null,
   "metadata": {},
   "outputs": [],
   "source": [
    "scatter(rs,sim[:,6])\n",
    "plot!(rs,theo[:,5])\n",
    "title!(\"y wall collisions\")\n",
    "xlabel!(\"r\")\n",
    "ylabel!(\"mean time\")"
   ]
  },
  {
   "cell_type": "code",
   "execution_count": null,
   "metadata": {},
   "outputs": [],
   "source": [
    "scatter(rs,sim[:,8])\n",
    "plot!(rs,theo[:,7])\n",
    "title!(\"z wall collisions\")\n",
    "xlabel!(\"r\")\n",
    "ylabel!(\"mean time\")"
   ]
  },
  {
   "cell_type": "code",
   "execution_count": null,
   "metadata": {},
   "outputs": [],
   "source": [
    "scatter(rs,sim[:,16] )\n",
    "plot!(rs, theo[:, 9])\n",
    "title!(\"Hopping x\")\n",
    "xlabel!(\"r\")\n",
    "ylabel!(\"mean time\")"
   ]
  },
  {
   "cell_type": "code",
   "execution_count": null,
   "metadata": {},
   "outputs": [],
   "source": [
    "scatter(rs,sim[:,17])\n",
    "plot!(rs, theo[:,10])\n",
    "title!(\"Hopping y\")\n",
    "xlabel!(\"r\")\n",
    "ylabel!(\"mean time\")"
   ]
  },
  {
   "cell_type": "code",
   "execution_count": null,
   "metadata": {},
   "outputs": [],
   "source": [
    "savefig(\"hop_axis_2_3D_inset.pdf\")"
   ]
  },
  {
   "cell_type": "code",
   "execution_count": null,
   "metadata": {},
   "outputs": [],
   "source": [
    "scatter(rs,sim[:,18] )\n",
    "plot!(rs,theo[:,11])\n",
    "title!(\"Hopping z\")\n",
    "xlabel!(\"r\")\n",
    "ylabel!(\"mean time\")"
   ]
  },
  {
   "cell_type": "markdown",
   "metadata": {},
   "source": [
    "A box with different dimensions"
   ]
  },
  {
   "cell_type": "code",
   "execution_count": null,
   "metadata": {},
   "outputs": [],
   "source": [
    "h1 = 1\n",
    "h2 = 2\n",
    "h3 = 3\n",
    "theo2 = vcat(broadcast(function (r)  CollisionTimesTheo(r, 3, [h1,h2,h3]) end, rs)...);\n",
    "sim2 = vcat(broadcast(function (r) CollisionTimesSim(r, h1, h2, h3) end , rs)...);\n",
    "\n",
    "nota=\"Los Resultados Teoricos y Simulados estan en dos tablas.\n",
    "Primera columna son los radios.\n",
    "Prmero las bolas entre ellas.\n",
    "Luego vienen en Teoricas los golpes con las paredes de un bola \n",
    "contra una pared asi: \n",
    "Columna   Pared\n",
    "2         x positiva\n",
    "3         x negativa\n",
    "4         y positiva\n",
    "5         y negativa\n",
    "6         z positiva\n",
    "7         z negativa\n",
    "Luego vienen los hops, \n",
    "8         hop x\n",
    "9         hop y\n",
    "10        hop z\n",
    "En las simulaciones, entre cada columna, en el mismo orden, hay una columna \n",
    "de errores estandar.\n",
    "\"\n",
    "otranota=\"La variable h contiene los tamaños de la caja. La variable Nmax el numero de collisiones total.\"\n",
    "onde=\"simulaRosa20201216-1930.jld\"\n",
    "\n",
    "h=(h1,h2,h3)\n",
    "\n",
    "save(onde, \"nota01\", nota, \"nota02\", otranota, \n",
    "    \"teoricas\" , theo, \"numericas\", sim, \"h\", h, \"Nmax\", Nmax)"
   ]
  },
  {
   "cell_type": "code",
   "execution_count": null,
   "metadata": {},
   "outputs": [],
   "source": [
    "using Plots\n",
    "scatter(rs,[s[1] for s in sim2])\n",
    "plot!(rs,[t[1] for t in theo2])\n",
    "title!(\"Disc collisions\")\n",
    "xlabel!(\"r\")\n",
    "ylabel!(\"mean time\")"
   ]
  },
  {
   "cell_type": "code",
   "execution_count": null,
   "metadata": {},
   "outputs": [],
   "source": [
    "scatter(rs,[s[2][1] for s in sim2])\n",
    "plot!(rs,[t[2][1] for t in theo2])\n",
    "title!(\"x wall collisions\")\n",
    "xlabel!(\"r\")\n",
    "ylabel!(\"mean time\")"
   ]
  },
  {
   "cell_type": "code",
   "execution_count": null,
   "metadata": {},
   "outputs": [],
   "source": [
    "scatter(rs,[s[2][3] for s in sim2])\n",
    "plot!(rs,[t[2][3] for t in theo2])\n",
    "title!(\"y wall collisions\")\n",
    "xlabel!(\"r\")\n",
    "ylabel!(\"mean time\")"
   ]
  },
  {
   "cell_type": "code",
   "execution_count": null,
   "metadata": {},
   "outputs": [],
   "source": [
    "scatter(rs,[s[2][5] for s in sim2])\n",
    "plot!(rs,[t[2][5] for t in theo2])\n",
    "title!(\"z wall collisions\")\n",
    "xlabel!(\"r\")\n",
    "ylabel!(\"mean time\")"
   ]
  },
  {
   "cell_type": "code",
   "execution_count": null,
   "metadata": {},
   "outputs": [],
   "source": [
    "scatter(rs,[s[3][1] for s in sim2])\n",
    "plot!(rs,[t[3][1] for t in theo2])\n",
    "title!(\"Hopping x\")\n",
    "xlabel!(\"r\")\n",
    "ylabel!(\"mean time\")"
   ]
  },
  {
   "cell_type": "code",
   "execution_count": null,
   "metadata": {},
   "outputs": [],
   "source": [
    "scatter(rs,[s[3][2] for s in sim])\n",
    "plot!(rs,[t[3][2] for t in theo])\n",
    "title!(\"Hopping y\")\n",
    "xlabel!(\"r\")\n",
    "ylabel!(\"mean time\")"
   ]
  },
  {
   "cell_type": "code",
   "execution_count": null,
   "metadata": {},
   "outputs": [],
   "source": [
    "scatter(rs,[s[3][3] for s in sim2])\n",
    "plot!(rs,[t[3][3] for t in theo2])\n",
    "title!(\"Hopping z\")\n",
    "xlabel!(\"r\")\n",
    "ylabel!(\"mean time\")"
   ]
  },
  {
   "cell_type": "code",
   "execution_count": null,
   "metadata": {},
   "outputs": [],
   "source": []
  }
 ],
 "metadata": {
  "@webio": {
   "lastCommId": null,
   "lastKernelId": null
  },
  "kernelspec": {
   "display_name": "Julia 1.5.3",
   "language": "julia",
   "name": "julia-1.5"
  },
  "language_info": {
   "file_extension": ".jl",
   "mimetype": "application/julia",
   "name": "julia",
   "version": "1.5.3"
  }
 },
 "nbformat": 4,
 "nbformat_minor": 4
}
