{
 "cells": [
  {
   "cell_type": "markdown",
   "metadata": {},
   "source": [
    "# Diagrams for the Paper\n",
    "We shall try to make the Diagrams with Plots.jl\n",
    " Have fun, boyo.\n",
    " "
   ]
  },
  {
   "cell_type": "code",
   "execution_count": 4,
   "metadata": {},
   "outputs": [],
   "source": [
    "using Plots\n",
    "gr()\n",
    "using LaTeXStrings"
   ]
  },
  {
   "cell_type": "code",
   "execution_count": 5,
   "metadata": {},
   "outputs": [
    {
     "data": {
      "text/plain": [
       "0.2"
      ]
     },
     "execution_count": 5,
     "metadata": {},
     "output_type": "execute_result"
    }
   ],
   "source": [
    "# Constants\n",
    "w=1.5\n",
    "h=1.0\n",
    "ϵ=0.2"
   ]
  },
  {
   "cell_type": "code",
   "execution_count": 6,
   "metadata": {},
   "outputs": [
    {
     "data": {
      "text/plain": [
       "2-element Array{Float64,1}:\n",
       " 0.5\n",
       " 0.6"
      ]
     },
     "execution_count": 6,
     "metadata": {},
     "output_type": "execute_result"
    }
   ],
   "source": [
    "# coordinates for lines\n",
    "centralx=[0,w]\n",
    "centraly=[0,w]\n",
    "offsethigh=centraly.+ϵ\n",
    "offsetlow=centraly.-ϵ;\n",
    "#arrows\n",
    "epsiarrowx=[0.5,0.5]\n",
    "epsiarrowy=[0.5,0.5+ϵ]\n",
    "sqrx=[0.5,0.5-ϵ/2]\n",
    "sqry=[0.5,0.5+ϵ/2]"
   ]
  },
  {
   "cell_type": "code",
   "execution_count": 9,
   "metadata": {},
   "outputs": [
    {
     "data": {
      "text/latex": [
       "$ \\epsilon / \\sqrt{2} $"
      ],
      "text/plain": [
       "L\"$ \\epsilon / \\sqrt{2} $\""
      ]
     },
     "execution_count": 9,
     "metadata": {},
     "output_type": "execute_result"
    }
   ],
   "source": [
    "epsi=latexstring(L\"$ \\epsilon $\")\n",
    "epsi2=latexstring(L\"$ \\epsilon / \\sqrt{2} $\")"
   ]
  },
  {
   "cell_type": "code",
   "execution_count": 10,
   "metadata": {},
   "outputs": [
    {
     "data": {
      "image/svg+xml": [
       "<?xml version=\"1.0\" encoding=\"utf-8\"?>\n",
       "<svg xmlns=\"http://www.w3.org/2000/svg\" xmlns:xlink=\"http://www.w3.org/1999/xlink\" width=\"500\" height=\"500\" viewBox=\"0 0 2000 2000\">\n",
       "<defs>\n",
       "  <clipPath id=\"clip9100\">\n",
       "    <rect x=\"0\" y=\"0\" width=\"2000\" height=\"2000\"/>\n",
       "  </clipPath>\n",
       "</defs>\n",
       "<polygon clip-path=\"url(#clip9100)\" points=\"\n",
       "0,2000 2000,2000 2000,0 0,0 \n",
       "  \" fill=\"#ffffff\" fill-rule=\"evenodd\" fill-opacity=\"1\"/>\n",
       "<defs>\n",
       "  <clipPath id=\"clip9101\">\n",
       "    <rect x=\"400\" y=\"200\" width=\"1401\" height=\"1401\"/>\n",
       "  </clipPath>\n",
       "</defs>\n",
       "<polygon clip-path=\"url(#clip9100)\" points=\"\n",
       "94.4882,1905.51 1921.26,1905.51 1921.26,78.7402 94.4882,78.7402 \n",
       "  \" fill=\"#ffffff\" fill-rule=\"evenodd\" fill-opacity=\"1\"/>\n",
       "<defs>\n",
       "  <clipPath id=\"clip9102\">\n",
       "    <rect x=\"94\" y=\"78\" width=\"1828\" height=\"1828\"/>\n",
       "  </clipPath>\n",
       "</defs>\n",
       "<polyline clip-path=\"url(#clip9100)\" style=\"stroke:#000000; stroke-width:4; stroke-opacity:1; fill:none\" points=\"\n",
       "  94.4882,1905.51 1921.26,1905.51 \n",
       "  \"/>\n",
       "<polyline clip-path=\"url(#clip9100)\" style=\"stroke:#000000; stroke-width:4; stroke-opacity:1; fill:none\" points=\"\n",
       "  94.4882,1905.51 94.4882,78.7402 \n",
       "  \"/>\n",
       "<polyline clip-path=\"url(#clip9102)\" style=\"stroke:#000000; stroke-width:4; stroke-opacity:1; fill:none\" points=\"\n",
       "  94.4882,78.7402 1921.26,78.7402 \n",
       "  \"/>\n",
       "<polyline clip-path=\"url(#clip9102)\" style=\"stroke:#000000; stroke-width:4; stroke-opacity:1; fill:none\" points=\"\n",
       "  1921.26,1905.51 1921.26,78.7402 \n",
       "  \"/>\n",
       "<polyline clip-path=\"url(#clip9102)\" style=\"stroke:#000000; stroke-width:16; stroke-opacity:1; fill:none\" points=\"\n",
       "  94.4882,1905.51 2834.65,-834.646 \n",
       "  \"/>\n",
       "<polyline clip-path=\"url(#clip9102)\" style=\"stroke:#000000; stroke-width:4; stroke-opacity:1; fill:none\" points=\"\n",
       "  94.4882,1540.16 2834.65,-1200 \n",
       "  \"/>\n",
       "<polyline clip-path=\"url(#clip9102)\" style=\"stroke:#000000; stroke-width:4; stroke-opacity:1; fill:none\" points=\"\n",
       "  94.4882,2270.87 2834.65,-469.291 \n",
       "  \"/>\n",
       "<polyline clip-path=\"url(#clip9102)\" style=\"stroke:#000000; stroke-width:12; stroke-opacity:1; fill:none\" points=\"\n",
       "  1007.87,992.126 1007.87,626.772 \n",
       "  \"/>\n",
       "<polyline clip-path=\"url(#clip9102)\" style=\"stroke:#000000; stroke-width:12; stroke-opacity:1; fill:none\" points=\"\n",
       "  992.874,656.772 1007.87,626.772 1022.87,656.772 \n",
       "  \"/>\n",
       "<polyline clip-path=\"url(#clip9102)\" style=\"stroke:#000000; stroke-width:12; stroke-opacity:1; fill:none\" points=\"\n",
       "  1007.87,626.772 1007.87,992.126 \n",
       "  \"/>\n",
       "<polyline clip-path=\"url(#clip9102)\" style=\"stroke:#000000; stroke-width:12; stroke-opacity:1; fill:none\" points=\"\n",
       "  1007.87,992.126 825.197,809.449 \n",
       "  \"/>\n",
       "<polyline clip-path=\"url(#clip9102)\" style=\"stroke:#000000; stroke-width:12; stroke-opacity:1; fill:none\" points=\"\n",
       "  835.803,841.269 825.197,809.449 857.017,820.055 \n",
       "  \"/>\n",
       "<polyline clip-path=\"url(#clip9102)\" style=\"stroke:#000000; stroke-width:12; stroke-opacity:1; fill:none\" points=\"\n",
       "  825.197,809.449 1007.87,992.126 \n",
       "  \"/>\n",
       "<polygon clip-path=\"url(#clip9100)\" points=\"\n",
       "1431.18,1785.51 1861.26,1785.51 1861.26,1543.59 1431.18,1543.59 \n",
       "  \" fill=\"#ffffff\" fill-rule=\"evenodd\" fill-opacity=\"1\"/>\n",
       "<polyline clip-path=\"url(#clip9100)\" style=\"stroke:#000000; stroke-width:4; stroke-opacity:1; fill:none\" points=\"\n",
       "  1431.18,1785.51 1861.26,1785.51 1861.26,1543.59 1431.18,1543.59 1431.18,1785.51 \n",
       "  \"/>\n",
       "<polyline clip-path=\"url(#clip9100)\" style=\"stroke:#000000; stroke-width:16; stroke-opacity:1; fill:none\" points=\"\n",
       "  1451.18,1664.55 1571.18,1664.55 \n",
       "  \"/>\n",
       "<g clip-path=\"url(#clip9100)\">\n",
       "<text style=\"fill:#000000; fill-opacity:1; font-family:Arial,Helvetica Neue,Helvetica,sans-serif; font-size:95px; text-anchor:start;\" transform=\"rotate(0, 1591.18, 1699.05)\" x=\"1591.18\" y=\"1699.05\">exact</text>\n",
       "</g>\n",
       "<g clip-path=\"url(#clip9100)\">\n",
       "<image width=\"52\" height=\"52\" xlink:href=\"data:image/png;base64,\n",
       "iVBORw0KGgoAAAANSUhEUgAAADQAAAA0CAYAAADFeBvrAAADcklEQVRogdWa+22zMBTFj6tvANIR\n",
       "nE6AOgLtBO4KqBOgjkA3oCvQTuBkBLKB0xEIG5zvj+CIEN4Y2h7pSlEeF//se69fAX5AJEFyEd9i\n",
       "Ea8dqoMI4bYJqwK1jYpLqNWA+kLMFdQqQEPzxQXU4kBjk38u1KJAUyvZHKjFgOaW5alQiwC5mmOm\n",
       "QDkHcj1hjoW6c/nwOszhcCAAnE4nbjYbHg4H7nY7CiEohODn5yePxyO32+3lh7vdjl0+V5NdzpBE\n",
       "mqb0fZ++7xMAAdDzvMvrukkpL6+11vR9n1prVn3+CIwx5gpirvm+zyzLuCqUfVgcx85A6hZFEUki\n",
       "z/NeqllFwRhDAHh4eJjjZrCSJAEAvL6+uq/OSZIwTdNZPa+1ppSSSqlLWCmlKKVk2Vk3FoYhgyBw\n",
       "G39xHDNJktEASikqpWiMIUnUE79q9jvGGEoprwpHEAQ2V+crSRJGUTQKxPO8XoA+i6KIWusrn2Xl\n",
       "nK40TSeNzFSIummt20JxvLTWVz3UZWEYLgaV5znLatcI9W8IDEmcTifc39/3fjdNU+z3e5AUQojL\n",
       "g4QQJDm7Om02G2HbVPWPM1S/f9sz1aRsM2PMJeErk+EiI9Xkv2xjP0xfEZBSdjZ0aSi7rCrzuxum\n",
       "qUFVC4JgUAOXhirzux+mnMRa55Wp4eEaahBM1+gMHZk1oAbD2Jm93oi+nFkTqi5RhWlSrTTa784u\n",
       "v3W/U3w27WbvSmeNPzgejzcfaK1vdpVTVAdo6rgutW3NO7fgRVHcvPf19YWnpycny/epUIPOGZri\n",
       "M8uym61znudOq1M9pwbMaaN67Mrqa6YwDJ3DWLMrEbtmnA3TBlUFStN0MSDyvPdp67ShagxG6+D9\n",
       "/Z0A8Pb2Vv1s9TslJzcTTSOUJMmiI+QizFqrnO2VKIou7+33+9EPmCPXt3sAziNVrXRLVDlnBWCo\n",
       "siybvCBdG2bQ2fbj46OI4xgAEAQBPj4+FuvCRcKsTfaYN8uym53pT4+M1eju8DyPRVHAGAMA2G63\n",
       "TrrU1ciMvk4pikIA5+Pf7+9vJ+HnMsym3g8Jz/Pw/PwMAHh5eZkMtWrO9MnmlD3FHHsy+itVP7AP\n",
       "goDGGCqlOgF/tUii6bQUOF9a/SkYK/J8lCSlbDxU/1MwVrbRNtTyPF8dZrVr/bWq2Sp/vPhVpXmq\n",
       "/mTO/Eb9B9p7UI2mLqneAAAAAElFTkSuQmCC\n",
       "\" transform=\"translate(836, 929)\"/>\n",
       "</g>\n",
       "<g clip-path=\"url(#clip9100)\">\n",
       "<image width=\"112\" height=\"210\" xlink:href=\"data:image/png;base64,\n",
       "iVBORw0KGgoAAAANSUhEUgAAAHAAAADSCAYAAACSNESuAAAL+0lEQVR4nO2d8ZGqOhTGj29eAcES\n",
       "4q2AtQTcCtgtgb0VuFuCeytgLSFrBWgJaAVICWgHeX/cFwdZhagJJwk5M9+M69wLIT8hyZeTMAIA\n",
       "DrXgnI/AhzXxD3YBfDwWHqDl4QFaHh6g5fEvdgGuxXq95rvdDsqyhKqqoCxLAAAYj8dAKQVKKURR\n",
       "BE9PT9o6XZ+fnzzPc5hOp0AphTAMYTKZGNfJ43VxzgFLjDEexzFvlqlLcRzzoiiUlz1Jkovno5Ty\n",
       "OI75fD7njDGe5zlavRkBMMsyTim9GVxTURQprcw0TXkYhtLnJ4TwKIr4fD7naZr2AhYVYFVVPIqi\n",
       "h8E1tVgslF9HURQ8yzI+n89vguoswKIoOCFEOTyhMAy1PFbrP775fD5MgFmWaQPXfKTpfox1Pfqd\n",
       "A1gURS/w6mKMabuurk6X7vrsfRz4/Pzc9ynh9fUVPj8/uY5jU0p1HFY6egX48vLCxXju1iCEACHk\n",
       "7nN/fHxogTgej1Uf8qbobSC/3W75arXq/HeUUojjGKbT6dWB8+Fw4GVZwmazgTzPQea4AH8hAgB/\n",
       "f39XNhh/5EelKnp5ZncNF5IkeajDwRiTHpKoHGakaep+JybP86sXGEWR0u5+URT8moNSV5qmSs45\n",
       "CIDXemqqKvEayK4Bt4reKWPMfYCXBuxZlmm/OFHBbYbBo+VwHuClcZ/OO++Sqqpqfaw+2vY6DXCx\n",
       "WPxo8/qEV1eWZRfvRkLI3e0wNkDt48A8z8/+TtNU9ymvxmw2G+V5DmEYnn1/PB7h+fkZDocDRyra\n",
       "3aEd4PF4PH02YUJ0MpmMttvtKI7js+/LsoQoipBKdX9oB1h3XpIk0X066fj+/h4tFouz73a7Hcxm\n",
       "M+vuQq3P7Hqbgzlz3dYuNusgjmPpcmK3gdoB1o9dVZVxADn/azQ0Ozfz+VyqrM4DrFcMNqg2XZpg\n",
       "loGIDVB7G4g93SIbk8lkVJblWXn//PmjbRpKVfQKcL/fG10ZQRCM9vv9qN4b1TUNpSp6Bbjb7XSf\n",
       "Tkms1+uzYcbHxwd8fX0ZC7E3Ky1JEqPbwaaaSUuXLEDsNlA7QM7PE3+wodyqphXYhDgIgPVfso6c\n",
       "Td1qQqpPQw0CYFVVZ1102fGgyL2MouiU8awz17NNzQG/gDgIgJyfz1yHYdh5nraZ7r6no4SaA37G\n",
       "GB8MQM7P28I2u6otBUMI604sioI3r2MwAJtuxzWIMiuUbvErVauqKun1EU4B5Pzn3UUp/WFyy6xU\n",
       "IoSgARSSyYJzDiDnl2fGkyQ5PRZlftl9lbVLXRlwTgLk/HrWmGxup0xHqC+1rVJyFqDMxbcJqyd6\n",
       "Tdd6zc4D5Lw7a8zku6+uS0OKQQBsVkIcx1dzOU33U/M8531ah6P/T3QKbthWW2IhCyEEPSHqltjv\n",
       "9/x4PGrdRQMAzAfooz38Rj+Wxw+AJk9c+vgZPwD+/v0bgiDgJqcR+KhFc8KyLkIIn8/nxqYDenEA\n",
       "zq8v+qjLgzRTZ3+kadq55VWSJB6kQbr4JWNMCiTWnJxXB8A6yK55L107BXopACiUZVknSNU7BXop\n",
       "BCiU53nndE8URb2tf/e6EWAdZFfaQxiGHqSpAIWKougESSnVutnc0KXkIDLzeZRS4yZhXZDSg8ls\n",
       "gkoI8SBNBdgE2ebuEEKsTLM3TdpPsFgspEB6d8dQgEJpmnq/1WaAdZDeb7UYoJCMTef9VoMBCsnY\n",
       "dN5vNRigkKxN5/1WQwHWQXa5Ox6kwQCFZGw677caDLAOssumC8NwsH4regFkJWPTDdE4Ry+ALpBD\n",
       "8VvRC/CIZG067HJ6gB3qsulc9lvRC6AaZJdN55rfil4AHZJNi3QBJHoBdErGprPdb0UvQF8gu2w6\n",
       "W/1W9AL0KRm/NY5jq2w69AJgSMams8VvRS8ANkgZm85kvxW9ACZIJi3SVL8VvQAmyUa/Fb0AJqqq\n",
       "Kt5l05nit6JXluky3W9FryBb1GXTYYFErxjbJGPT9em3oleIrZJJi+wDJHpF2C5svxW9AlyRrE2n\n",
       "GiT6hbumvkH6ze4Ux2az+fHi52asViv49euXmn3psH+xLkjGwbkkFTvvo1+8zZLJIvcADZRMz1MG\n",
       "nopZDvTKsEkySVMy4FQ6NuiVYrpk1vvLSNd0FHoFmSqZyV4Z6d65Cr2iTJNMApSM+sp2Q68wUyTj\n",
       "bcq0b30nDqNXHLa65vtkhDm5i16BGLp34N1Xx8QDvKJHB95CJuWOohegD6kYePfZMfEA/5fKgbep\n",
       "C2HQC6BaqgbepmSdDQagqoG36ZnYzgGUmUC1rWMyGIAqhgImdkwGA/DenqXpHZPBAMyyzMmOyWAA\n",
       "ci73GHX5XRboBVCha49SWzsmgwNYVdXZuM+1rUTa5ERaYRAEI8bY6e/xeAxBEAzjZc7YvyCVqreH\n",
       "rrZ5TY0459i/IaUxm834ZrMBQgiUZen8nejEI7QejDEghMDxeITX11fs4mgP5wAGQTDabDYA8DfN\n",
       "3fm3cWM/w3Wp/nZul3ukzt2BIt7f30dJkgAAQFVVyKXRF851YoYWzt6BQwkP0PLwAC0PD9Dy8AAt\n",
       "Dw/Q8vAALQ8P0PLwAC0PD9Dy8AAtDyUAt9st32633lRFiIcBvr+/8+l0CtPpFIIg4G9vbx5mj/Hw\n",
       "bMRkMuFlWf74nlIKcRxDkiQwmUycTmtAjUcnFGVWBIVhyNM0dXpiFUtKDpKmqfQKoSiK0NeVuySl\n",
       "BxPb9cuuik2SxPnMaasA1pXnufRKWbG/is3LvJwDWFeWZdK7Q/j20kCAdTHGfHtpM0Che9rLoaTL\n",
       "WwGwrqIofHtpM8C6bm0vXVkq7QzAunx7aTlAoaqqeJqm0ttlxXE8mPYSvQC3yreXlgOsK89z6d2Z\n",
       "KKVOtpfoBVClobaX6AVQraG1l+gF0CnRXsqYBaK9tM1cRy9AXxLtpUznx6b2Er0AGGKMSZsFURQZ\n",
       "vT0XegEw5UJ7iV4AU1QUhbS5TggxZjIaveJMlE3tJXplma57JqM9QEN1S/JWX+0leqXYqFsmo3W3\n",
       "l+iVYbtuSd4S7aVKcx29AlwSRvIW+kW7qlvM9TiO7zbX0S/UdYn2UsYsuKe9RL/AIemWyWhKqdRk\n",
       "NPpFDVVZlklPRre1l+gX4vXYZLTfrdCgOBwOnDEGy+USdrtd678lhMByufQATY39fs+XyyWsViu4\n",
       "tIAW4C9ED9CC2G63fLlcAmMMjsfj6XtKqQdoW6zXa75araCqKlgsFh6g7eH3ibE8PEDLwwO0PDxA\n",
       "y8MDtDw8QMvDA7Q8rAb49fXFn56e+Hq9Huxg1uqBvNhoLwxD2G63g9xQz2qAo9GIA/w1dQ+HAzrA\n",
       "IAg4APT64kmrH6Ei6gYvZlBK+3/xJPZk5iOC2kTnvccQM+MqUv2yLDuVp69FMOgQsAGK5NwoipRU\n",
       "uEgrpJR6gH0AFP9fVYUXRdHrXWh1G0gIOX0+HA4P9cauzXrfGpPJZBRFEQAArFYrJcdsDey76BHV\n",
       "cy3vbcNAwV3cVL0t9HdgS4zH49NnVXeQipjNZiPxdPj+/tY6TrMaIKX09Fm8etyUEI/RPM+1nsdq\n",
       "gGEYnj730t7cEAKg7h+W1QDrA+ayLGG/3xtjK4mng+5Hu9UAgyAY1R+jHx8fiKU5D1Eu3S6R1QAB\n",
       "AOI4Pn1erVZG3YV9hPUAm77j8/MzUknOQ9x59bGqjrAe4NPT06jemSnLEl5eXtDvQtH7rD/idYT1\n",
       "AAEAFovF2d+r1Qre3t5QIYreZ32sqiWw3RQdroxQHMedTghocGKqqjodc7FYaHVj0Cteler2VV2U\n",
       "0lZTWQfA+kYHurfjQq94lWpb8RrH8UW/VDXANE3P1rzrvmb0Sletrs13mjsoqQTIGDs713w+9wBv\n",
       "VX0+rk1iRwgVAKuqurjevY8N8NArXIead4KskiThjDHpqam2jQp0d16ErM5Ka4vv72/+aHIRIQTG\n",
       "4zFQSk8D8uPxCGVZtnqcvaY5Yt8tOnWtZ6pThJBe9w5Fr2TdyvNcamMdVep7F1/0Cu5D1zoZKkUp\n",
       "RXnFD3rl9qk8z6U3OL9FMo6PB6hQjDElIKMoQt/4HL0yMSV2qr8FptiEDhuckLPDiHtiv9/z3W4H\n",
       "VVXB8XiEqqqAUgrj8RgIITCdTntbtCIb/wGzn46X8eJ6egAAAABJRU5ErkJggg==\n",
       "\" transform=\"translate(1043, 641)\"/>\n",
       "</g>\n",
       "</svg>\n"
      ]
     },
     "execution_count": 10,
     "metadata": {},
     "output_type": "execute_result"
    }
   ],
   "source": [
    "plot(xlim=(0, h), ylim=(0,h), size=(500, 500), aspect_ratio=1,\n",
    "    legend=:bottomright, legendfontsize=16, grid=:none, framestyle=:box,\n",
    "    xticks=[], yticks=[])\n",
    "#plot!(centralx, centraly, label=\"\", lw=110, ms=1)\n",
    "plot!(centralx, centraly, label=\"exact\", lw=4, ms=1, lc=\"black\")\n",
    "plot!(centralx, offsethigh, label=\"\", lw=1, ms=1, lc=\"black\")\n",
    "plot!(centralx, offsetlow, label=\"\", lw=1, ms=1, lc=\"black\")\n",
    "plot!(epsiarrowx, epsiarrowy, label=\"\", arrow=:arrow, lw=3, lc=\"black\")\n",
    "plot!(sqrx, sqry, arrow=:arrow,label=\"\", lw=3, lc=\"black\")\n",
    "annotate!([(0.42, 0.52, text(epsi, 16, :center, rotation=-45)), \n",
    "        (0.55, 0.635, text(epsi2, :center, 16, rotation=90))])\n",
    "\n",
    "\n",
    "#plot!(rs, exact_hitting_times, label=\"exact\", lw=3, m=:o, ms=1)\n",
    "#scatter!(rs, num_hitting_times, m=:square, ms=2, label=\"numerical\", yerror=stderror, alpha=0.5)\n",
    "#vline!([rhmax], label=\"rhmax\", ls=:dash)\n",
    "#vline!([rvmax], label=\"rvmax\", ls=:dash)"
   ]
  },
  {
   "cell_type": "code",
   "execution_count": 11,
   "metadata": {},
   "outputs": [],
   "source": [
    "savefig(\"figures/diagramdelta01.pdf\")"
   ]
  },
  {
   "cell_type": "code",
   "execution_count": null,
   "metadata": {
    "collapsed": true
   },
   "outputs": [],
   "source": []
  }
 ],
 "metadata": {
  "@webio": {
   "lastCommId": "5462b2325d514e229ab7d40f0ca98042",
   "lastKernelId": "54f6cb48-4a9f-4b77-849c-cb5a1728a873"
  },
  "kernelspec": {
   "display_name": "Julia 1.0.3",
   "language": "julia",
   "name": "julia-1.0"
  },
  "language_info": {
   "file_extension": ".jl",
   "mimetype": "application/julia",
   "name": "julia",
   "version": "1.0.3"
  }
 },
 "nbformat": 4,
 "nbformat_minor": 2
}
