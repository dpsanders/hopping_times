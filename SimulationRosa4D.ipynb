{
 "cells": [
  {
   "cell_type": "code",
   "execution_count": 1,
   "metadata": {},
   "outputs": [],
   "source": [
    "using SpecialFunctions, IterTools, HardSphereDynamics, StatsBase # For Std Error."
   ]
  },
  {
   "cell_type": "markdown",
   "metadata": {},
   "source": [
    "Aqui abajo Rosa define todos los resultados téoricos para cualquier número de dimensiones, siempre\n",
    "que no haya \"sombras prohibidas\" (es decir, que las bolas siempre quepan unas al lado de otras)."
   ]
  },
  {
   "cell_type": "code",
   "execution_count": 2,
   "metadata": {},
   "outputs": [
    {
     "data": {
      "text/plain": [
       "CollisionTimesTheo (generic function with 3 methods)"
      ]
     },
     "execution_count": 2,
     "metadata": {},
     "output_type": "execute_result"
    }
   ],
   "source": [
    "function radiusmax(hs::Array)\n",
    "    #Maximal Radius for two spheres in box of sizes hs\n",
    "    n=length(hs)\n",
    "    a=4*(n-1)\n",
    "    b=4*sum(hs)\n",
    "    c=sum(hs.^2)\n",
    "    result=(b-sqrt(b^2-4*a*c))/(2*a)\n",
    "end\n",
    "\n",
    "function SphereArea(n)\n",
    "    return 2*(pi^(n/2))/gamma(n/2)\n",
    "end\n",
    "\n",
    "function NormalizationFactor(n, balls=2)\n",
    "    d = 2*n\n",
    "    return SphereArea(d)/SphereArea(d-1)*(d-1)\n",
    "end\n",
    "\n",
    "function Ak(boxdims,m)\n",
    "    result = 0\n",
    "    for aks in subsets(boxdims, m)\n",
    "        result += prod(aks)\n",
    "    end\n",
    "    return result\n",
    "end\n",
    "\n",
    "function AvailableVolume(n, boxdims, r)\n",
    "    vol = prod((2*boxdims).^2)\n",
    "    for k in 0:n\n",
    "        vol -= (4^n)*(pi)^(n/2-k/2)*r^(k+n)/gamma(k/2+n/2+1)*Ak(boxdims, n-k)*(-1)^k\n",
    "    end\n",
    "    return vol\n",
    "end\n",
    "\n",
    "function SphereCollisionArea(n, boxdims, r)\n",
    "    area = 0 \n",
    "    for k in 0:n\n",
    "        area += 2^(2*n+1/2)*(pi^(n/2-k/2))*(r^(k+n-1))/gamma(k/2+n/2)*Ak(boxdims, n-k)*(-1)^k\n",
    "    end\n",
    "    return area\n",
    "end\n",
    "\n",
    "function WallCollisionArea(n, boxdims, r, dim)\n",
    "    otherboxdims = deleteat!(copy(boxdims),dim)\n",
    "    area = prod((2*otherboxdims).^2)*(2*boxdims[dim])\n",
    "    for k in 0:(n-1)\n",
    "        area -= 2^(2*n-2)*(pi^(n/2 - k/2))*(r^(k+n))/gamma(k/2+n/2+1)*(-1)^k*Ak(otherboxdims, n-1-k)\n",
    "    end\n",
    "    return area\n",
    "end\n",
    "\n",
    "function SphereCollisionTime(n, boxdimsh, r)\n",
    "    boxdimsa = boxdimsh/2 .- r \n",
    "    return NormalizationFactor(n)*AvailableVolume(n, boxdimsa, r)/SphereCollisionArea(n, boxdimsa, r)\n",
    "end\n",
    "\n",
    "function WallCollisionTime(n, boxdimsh, r, dim)\n",
    "    boxdimsa = boxdimsh/2 .- r \n",
    "    return NormalizationFactor(n)*AvailableVolume(n, boxdimsa, r)/WallCollisionArea(n, boxdimsa, r, dim)\n",
    "end\n",
    "    \n",
    "function HoppingCollisionTime(n, boxdimsh, r, dim)\n",
    "    boxdimsa = boxdimsh/2 .- r \n",
    "    otherboxdims = deleteat!(copy(boxdimsa),dim)\n",
    "    #if r < minimum(boxdimsh)/4\n",
    "        result= NormalizationFactor(n)*AvailableVolume(n, boxdimsa, r)/\n",
    "           AvailableVolume(n-1, otherboxdims, r)/2^(2.5)/boxdimsa[dim]\n",
    "    #else\n",
    "    #    result=1.0\n",
    "    #end\n",
    "    \n",
    "end\n",
    "\n",
    "function CollisionTimesTheo(r, n=3, boxdimsh = [1.0, 1.5, 1.75])\n",
    "    wall_times = []\n",
    "    hop_times = []\n",
    "    for dim in 1:n\n",
    "        w = WallCollisionTime(n, boxdimsh, r, dim)\n",
    "        push!(wall_times, w, w)\n",
    "        push!(hop_times, HoppingCollisionTime(n, boxdimsh, r, dim))\n",
    "    end\n",
    "    result = hcat(r , SphereCollisionTime(n, boxdimsh, r), wall_times..., hop_times...)\n",
    "    return result\n",
    "end\n",
    "\n"
   ]
  },
  {
   "cell_type": "code",
   "execution_count": 28,
   "metadata": {},
   "outputs": [
    {
     "name": "stdout",
     "output_type": "stream",
     "text": [
      "search: \u001b[0m\u001b[1mm\u001b[22m\u001b[0m\u001b[1mo\u001b[22m\u001b[0m\u001b[1md\u001b[22m \u001b[0m\u001b[1mm\u001b[22m\u001b[0m\u001b[1mo\u001b[22m\u001b[0m\u001b[1md\u001b[22mf \u001b[0m\u001b[1mm\u001b[22m\u001b[0m\u001b[1mo\u001b[22m\u001b[0m\u001b[1md\u001b[22m1 \u001b[0m\u001b[1mm\u001b[22m\u001b[0m\u001b[1mo\u001b[22m\u001b[0m\u001b[1md\u001b[22me \u001b[0m\u001b[1mm\u001b[22m\u001b[0m\u001b[1mo\u001b[22m\u001b[0m\u001b[1md\u001b[22mes \u001b[0m\u001b[1mm\u001b[22m\u001b[0m\u001b[1mo\u001b[22m\u001b[0m\u001b[1md\u001b[22mule \u001b[0m\u001b[1mm\u001b[22m\u001b[0m\u001b[1mo\u001b[22m\u001b[0m\u001b[1md\u001b[22m2pi \u001b[0m\u001b[1mM\u001b[22m\u001b[0m\u001b[1mo\u001b[22m\u001b[0m\u001b[1md\u001b[22mule \u001b[0m\u001b[1mm\u001b[22m\u001b[0m\u001b[1mo\u001b[22m\u001b[0m\u001b[1md\u001b[22melmatrix \u001b[0m\u001b[1mm\u001b[22m\u001b[0m\u001b[1mo\u001b[22m\u001b[0m\u001b[1md\u001b[22mel_response\n",
      "\n"
     ]
    },
    {
     "data": {
      "text/latex": [
       "\\begin{verbatim}\n",
       "mod(x::Integer, r::AbstractUnitRange)\n",
       "\\end{verbatim}\n",
       "Find \\texttt{y} in the range \\texttt{r} such that $x ≡ y (mod n)$, where \\texttt{n = length(r)}, i.e. \\texttt{y = mod(x - first(r), n) + first(r)}.\n",
       "\n",
       "See also: \\href{@ref}{\\texttt{mod1}}.\n",
       "\n",
       "\\section{Examples}\n",
       "\\begin{verbatim}\n",
       "julia> mod(0, Base.OneTo(3))\n",
       "3\n",
       "\n",
       "julia> mod(3, 0:2)\n",
       "0\n",
       "\\end{verbatim}\n",
       "\\begin{quote}\n",
       "\\textbf{compat}\n",
       "\n",
       "Julia 1.3\n",
       "\n",
       "This method requires at least Julia 1.3.\n",
       "\n",
       "\\end{quote}\n",
       "\\rule{\\textwidth}{1pt}\n",
       "\\begin{verbatim}\n",
       "mod(x, y)\n",
       "rem(x, y, RoundDown)\n",
       "\\end{verbatim}\n",
       "The reduction of \\texttt{x} modulo \\texttt{y}, or equivalently, the remainder of \\texttt{x} after floored division by \\texttt{y}, i.e. \\texttt{x - y*fld(x,y)} if computed without intermediate rounding.\n",
       "\n",
       "The result will have the same sign as \\texttt{y}, and magnitude less than \\texttt{abs(y)} (with some exceptions, see note below).\n",
       "\n",
       "\\begin{quote}\n",
       "\\textbf{note}\n",
       "\n",
       "Note\n",
       "\n",
       "When used with floating point values, the exact result may not be representable by the type, and so rounding error may occur. In particular, if the exact result is very close to \\texttt{y}, then it may be rounded to \\texttt{y}.\n",
       "\n",
       "\\end{quote}\n",
       "\\begin{verbatim}\n",
       "julia> mod(8, 3)\n",
       "2\n",
       "\n",
       "julia> mod(9, 3)\n",
       "0\n",
       "\n",
       "julia> mod(8.9, 3)\n",
       "2.9000000000000004\n",
       "\n",
       "julia> mod(eps(), 3)\n",
       "2.220446049250313e-16\n",
       "\n",
       "julia> mod(-eps(), 3)\n",
       "3.0\n",
       "\\end{verbatim}\n",
       "\\rule{\\textwidth}{1pt}\n",
       "\\begin{verbatim}\n",
       "rem(x::Integer, T::Type{<:Integer}) -> T\n",
       "mod(x::Integer, T::Type{<:Integer}) -> T\n",
       "%(x::Integer, T::Type{<:Integer}) -> T\n",
       "\\end{verbatim}\n",
       "Find \\texttt{y::T} such that \\texttt{x} ≡ \\texttt{y} (mod n), where n is the number of integers representable in \\texttt{T}, and \\texttt{y} is an integer in \\texttt{[typemin(T),typemax(T)]}. If \\texttt{T} can represent any integer (e.g. \\texttt{T == BigInt}), then this operation corresponds to a conversion to \\texttt{T}.\n",
       "\n",
       "\\section{Examples}\n",
       "\\begin{verbatim}\n",
       "julia> 129 % Int8\n",
       "-127\n",
       "\\end{verbatim}\n"
      ],
      "text/markdown": [
       "```\n",
       "mod(x::Integer, r::AbstractUnitRange)\n",
       "```\n",
       "\n",
       "Find `y` in the range `r` such that $x ≡ y (mod n)$, where `n = length(r)`, i.e. `y = mod(x - first(r), n) + first(r)`.\n",
       "\n",
       "See also: [`mod1`](@ref).\n",
       "\n",
       "# Examples\n",
       "\n",
       "```jldoctest\n",
       "julia> mod(0, Base.OneTo(3))\n",
       "3\n",
       "\n",
       "julia> mod(3, 0:2)\n",
       "0\n",
       "```\n",
       "\n",
       "!!! compat \"Julia 1.3\"\n",
       "    This method requires at least Julia 1.3.\n",
       "\n",
       "\n",
       "---\n",
       "\n",
       "```\n",
       "mod(x, y)\n",
       "rem(x, y, RoundDown)\n",
       "```\n",
       "\n",
       "The reduction of `x` modulo `y`, or equivalently, the remainder of `x` after floored division by `y`, i.e. `x - y*fld(x,y)` if computed without intermediate rounding.\n",
       "\n",
       "The result will have the same sign as `y`, and magnitude less than `abs(y)` (with some exceptions, see note below).\n",
       "\n",
       "!!! note\n",
       "    When used with floating point values, the exact result may not be representable by the type, and so rounding error may occur. In particular, if the exact result is very close to `y`, then it may be rounded to `y`.\n",
       "\n",
       "\n",
       "```jldoctest\n",
       "julia> mod(8, 3)\n",
       "2\n",
       "\n",
       "julia> mod(9, 3)\n",
       "0\n",
       "\n",
       "julia> mod(8.9, 3)\n",
       "2.9000000000000004\n",
       "\n",
       "julia> mod(eps(), 3)\n",
       "2.220446049250313e-16\n",
       "\n",
       "julia> mod(-eps(), 3)\n",
       "3.0\n",
       "```\n",
       "\n",
       "---\n",
       "\n",
       "```\n",
       "rem(x::Integer, T::Type{<:Integer}) -> T\n",
       "mod(x::Integer, T::Type{<:Integer}) -> T\n",
       "%(x::Integer, T::Type{<:Integer}) -> T\n",
       "```\n",
       "\n",
       "Find `y::T` such that `x` ≡ `y` (mod n), where n is the number of integers representable in `T`, and `y` is an integer in `[typemin(T),typemax(T)]`. If `T` can represent any integer (e.g. `T == BigInt`), then this operation corresponds to a conversion to `T`.\n",
       "\n",
       "# Examples\n",
       "\n",
       "```jldoctest\n",
       "julia> 129 % Int8\n",
       "-127\n",
       "```\n"
      ],
      "text/plain": [
       "\u001b[36m  mod(x::Integer, r::AbstractUnitRange)\u001b[39m\n",
       "\n",
       "  Find \u001b[36my\u001b[39m in the range \u001b[36mr\u001b[39m such that \u001b[35mx ≡ y (mod n)\u001b[39m, where \u001b[36mn = length(r)\u001b[39m, i.e. \u001b[36my =\n",
       "  mod(x - first(r), n) + first(r)\u001b[39m.\n",
       "\n",
       "  See also: \u001b[36mmod1\u001b[39m.\n",
       "\n",
       "\u001b[1m  Examples\u001b[22m\n",
       "\u001b[1m  ≡≡≡≡≡≡≡≡≡≡\u001b[22m\n",
       "\n",
       "\u001b[36m  julia> mod(0, Base.OneTo(3))\u001b[39m\n",
       "\u001b[36m  3\u001b[39m\n",
       "\u001b[36m  \u001b[39m\n",
       "\u001b[36m  julia> mod(3, 0:2)\u001b[39m\n",
       "\u001b[36m  0\u001b[39m\n",
       "\n",
       "\u001b[39m\u001b[1m  │ \u001b[22m\u001b[39m\u001b[1mJulia 1.3\u001b[22m\n",
       "\u001b[39m\u001b[1m  │\u001b[22m\n",
       "\u001b[39m\u001b[1m  │\u001b[22m  This method requires at least Julia 1.3.\n",
       "\n",
       "  ────────────────────────────────────────────────────────────────────────────\n",
       "\n",
       "\u001b[36m  mod(x, y)\u001b[39m\n",
       "\u001b[36m  rem(x, y, RoundDown)\u001b[39m\n",
       "\n",
       "  The reduction of \u001b[36mx\u001b[39m modulo \u001b[36my\u001b[39m, or equivalently, the remainder of \u001b[36mx\u001b[39m after\n",
       "  floored division by \u001b[36my\u001b[39m, i.e. \u001b[36mx - y*fld(x,y)\u001b[39m if computed without intermediate\n",
       "  rounding.\n",
       "\n",
       "  The result will have the same sign as \u001b[36my\u001b[39m, and magnitude less than \u001b[36mabs(y)\u001b[39m\n",
       "  (with some exceptions, see note below).\n",
       "\n",
       "\u001b[36m\u001b[1m  │ \u001b[22m\u001b[39m\u001b[36m\u001b[1mNote\u001b[22m\u001b[39m\n",
       "\u001b[36m\u001b[1m  │\u001b[22m\u001b[39m\n",
       "\u001b[36m\u001b[1m  │\u001b[22m\u001b[39m  When used with floating point values, the exact result may not be\n",
       "\u001b[36m\u001b[1m  │\u001b[22m\u001b[39m  representable by the type, and so rounding error may occur. In\n",
       "\u001b[36m\u001b[1m  │\u001b[22m\u001b[39m  particular, if the exact result is very close to \u001b[36my\u001b[39m, then it may be\n",
       "\u001b[36m\u001b[1m  │\u001b[22m\u001b[39m  rounded to \u001b[36my\u001b[39m.\n",
       "\n",
       "\u001b[36m  julia> mod(8, 3)\u001b[39m\n",
       "\u001b[36m  2\u001b[39m\n",
       "\u001b[36m  \u001b[39m\n",
       "\u001b[36m  julia> mod(9, 3)\u001b[39m\n",
       "\u001b[36m  0\u001b[39m\n",
       "\u001b[36m  \u001b[39m\n",
       "\u001b[36m  julia> mod(8.9, 3)\u001b[39m\n",
       "\u001b[36m  2.9000000000000004\u001b[39m\n",
       "\u001b[36m  \u001b[39m\n",
       "\u001b[36m  julia> mod(eps(), 3)\u001b[39m\n",
       "\u001b[36m  2.220446049250313e-16\u001b[39m\n",
       "\u001b[36m  \u001b[39m\n",
       "\u001b[36m  julia> mod(-eps(), 3)\u001b[39m\n",
       "\u001b[36m  3.0\u001b[39m\n",
       "\n",
       "  ────────────────────────────────────────────────────────────────────────────\n",
       "\n",
       "\u001b[36m  rem(x::Integer, T::Type{<:Integer}) -> T\u001b[39m\n",
       "\u001b[36m  mod(x::Integer, T::Type{<:Integer}) -> T\u001b[39m\n",
       "\u001b[36m  %(x::Integer, T::Type{<:Integer}) -> T\u001b[39m\n",
       "\n",
       "  Find \u001b[36my::T\u001b[39m such that \u001b[36mx\u001b[39m ≡ \u001b[36my\u001b[39m (mod n), where n is the number of integers\n",
       "  representable in \u001b[36mT\u001b[39m, and \u001b[36my\u001b[39m is an integer in \u001b[36m[typemin(T),typemax(T)]\u001b[39m. If \u001b[36mT\u001b[39m can\n",
       "  represent any integer (e.g. \u001b[36mT == BigInt\u001b[39m), then this operation corresponds to\n",
       "  a conversion to \u001b[36mT\u001b[39m.\n",
       "\n",
       "\u001b[1m  Examples\u001b[22m\n",
       "\u001b[1m  ≡≡≡≡≡≡≡≡≡≡\u001b[22m\n",
       "\n",
       "\u001b[36m  julia> 129 % Int8\u001b[39m\n",
       "\u001b[36m  -127\u001b[39m"
      ]
     },
     "execution_count": 28,
     "metadata": {},
     "output_type": "execute_result"
    }
   ],
   "source": [
    "?mod"
   ]
  },
  {
   "cell_type": "code",
   "execution_count": 44,
   "metadata": {},
   "outputs": [
    {
     "data": {
      "text/plain": [
       "CollisionTimesSim4D (generic function with 6 methods)"
      ]
     },
     "execution_count": 44,
     "metadata": {},
     "output_type": "execute_result"
    }
   ],
   "source": [
    "using Parameters, Statistics, HardSphereDynamics, StaticArrays\n",
    "\n",
    "function BallsRelativeSign(state)\n",
    "    b1, b2 = state\n",
    "    return broadcast(sign, b1.x - b2.x)\n",
    "end\n",
    "\n",
    "function mean_interval(times)\n",
    "    return mean(diff(times))\n",
    "end\n",
    "\n",
    "h1 = 1.0\n",
    "h2 = 1.75\n",
    "h3 = 1.33\n",
    "h4=1.40\n",
    "r = 0.1\n",
    "rmax=  radiusmax([h1,h3,h4])   #maximal possible radius hopping in h2 direction\n",
    "\n",
    "Nmax=10^7\n",
    "\n",
    "function CollisionTimesSim4D(r, h1 = h1, h2 = h2, \n",
    "                    h3 = h3, h4 = h4 ,num_collisions = Nmax)\n",
    "    table = HardSphereDynamics.RectangularBox(SA[-h1/2, -h2/2, -h3/2, -h4/2],\n",
    "                                              SA[+h1/2, +h2/2, +h3/2, +h4/2])\n",
    "\n",
    "    n = 4\n",
    "    spheres = 2\n",
    "    fluid = HardSphereFluid{n,Float64}(table, spheres, r)\n",
    "    initial_condition!(fluid.balls, table)\n",
    "\n",
    "    # set up simulation:\n",
    "    collision_type = ElasticCollision()\n",
    "    flow_type = ExternalFieldFlow(SA[0.0, 0.0, 0.0, 0.0])\n",
    "    event_handler = AllToAll(fluid, flow_type)\n",
    "\n",
    "    simulation =  HardSphereSimulation(\n",
    "        fluid, event_handler, flow_type, collision_type);\n",
    "\n",
    "    @unpack fluid, flow_dynamics, collision_dynamics, event_handler = simulation\n",
    "    states = [deepcopy(fluid.balls)]\n",
    "    times = [0.0]\n",
    "    collision_types = [:none]\n",
    "    partner2 = [0] \n",
    "    partner1 = [0]\n",
    "    hopping_times = []\n",
    "    hopping_directions = []\n",
    "    for i in 1:num_collisions\n",
    "        HardSphereDynamics.flow!(fluid.balls, (event_handler.next_collision_time - simulation.current_time), \n",
    "            flow_dynamics)\n",
    "        simulation.current_time = event_handler.next_collision_time\n",
    "        push!(collision_types, event_handler.collision_type)\n",
    "        push!(partner2, event_handler.partner2)\n",
    "        push!(partner1, event_handler.partner1)\n",
    "        HardSphereDynamics.collide!(fluid, event_handler, collision_dynamics)\n",
    "        HardSphereDynamics.find_collision!(event_handler, fluid, flow_dynamics)\n",
    "        push!(states, deepcopy(fluid.balls))\n",
    "        push!(times, simulation.current_time)\n",
    "        prev, current = states[i:i+1]\n",
    "        signprev, signcurrent = broadcast(BallsRelativeSign,[prev, current])\n",
    "        if any(signprev .!= signcurrent)\n",
    "            b1, b2 = states[i]\n",
    "            start_time, final_time = times[i:i+1]\n",
    "            hop_times = start_time .+( b1.x - b2.x)./(b2.v - b1.v)\n",
    "            for (dir, time) in enumerate(hop_times)\n",
    "                if all([time>=start_time, time<=final_time])\n",
    "                    push!(hopping_times, time)\n",
    "                    push!(hopping_directions, dir)\n",
    "                end\n",
    "            end\n",
    "        end\n",
    "    end\n",
    "    \n",
    "    wall_idx = (collision_types.== :wall_collision).&(partner1.== 1)\n",
    "    wall_times = times[wall_idx];\n",
    "    which_wall = partner2[wall_idx];\n",
    "    wall_means = []\n",
    "    \n",
    "    # The std errros are no longer missin!\n",
    "    wall_errors = []\n",
    "    hop_errors  = []\n",
    "    \n",
    "    for i in 1:length(fluid.box.walls)\n",
    "        \n",
    "        enparedcorrecta=wall_times[which_wall .== i]\n",
    "        error=sem(diff(enparedcorrecta))\n",
    "        nn=length(enparedcorrecta)\n",
    "     #   println( \" En la pared $i, chocamos $nn veces\")\n",
    "        \n",
    "        push!(wall_means,mean_interval(enparedcorrecta))\n",
    "        push!(wall_errors, error)\n",
    "        \n",
    "    end\n",
    "    \n",
    "    hop_means = []\n",
    "    hop_errors= []\n",
    "\n",
    "    for i in 1:n\n",
    "        \n",
    "        cual_hop=hopping_times[hopping_directions .== i]\n",
    "        ll=length(cual_hop)\n",
    "        if ll > 2\n",
    "            error=sem(diff(cual_hop))\n",
    "            \n",
    "            if mod(i,2) == 0\n",
    "            println(\"en el hop direccion $i, hopamos $ll veces con radio $r\")\n",
    "            end\n",
    "            \n",
    "            push!(hop_means, mean_interval(cual_hop))\n",
    "            push!(hop_errors, error)\n",
    "        else\n",
    "            push!(hop_means, NaN)\n",
    "            push!(hop_errors, NaN)\n",
    "        end\n",
    "        \n",
    "    end\n",
    "    \n",
    "    colision=times[collision_types.== :disc_collision]\n",
    "    meandisc=mean_interval(colision)\n",
    "    errorcol=sem(diff(colision))\n",
    "    \n",
    "    \n",
    "    result=hcat(r, meandisc, errorcol,wall_means..., wall_errors..., hop_means..., hop_errors...)\n",
    "    \n",
    "    return result\n",
    "        \n",
    "end\n"
   ]
  },
  {
   "cell_type": "code",
   "execution_count": 45,
   "metadata": {},
   "outputs": [
    {
     "data": {
      "text/plain": [
       "(0.34952467848499547, 0.4048223048109765)"
      ]
     },
     "execution_count": 45,
     "metadata": {},
     "output_type": "execute_result"
    }
   ],
   "source": [
    "hs=[h1,h3]\n",
    "radiusmax(hs), rmax"
   ]
  },
  {
   "cell_type": "code",
   "execution_count": 47,
   "metadata": {
    "scrolled": true
   },
   "outputs": [
    {
     "name": "stdout",
     "output_type": "stream",
     "text": [
      "en el hop direccion 2, hopamos 813894 veces con radio 0.21\n",
      "en el hop direccion 4, hopamos 1211691 veces con radio 0.21\n",
      "113.807821 seconds (231.68 M allocations: 15.221 GiB, 21.72% gc time)\n"
     ]
    },
    {
     "data": {
      "text/plain": [
       "1×27 Array{Float64,2}:\n",
       " 0.21  5.45811  0.00682143  3.83204  …  0.00472213  0.0020913  0.0024459"
      ]
     },
     "execution_count": 47,
     "metadata": {},
     "output_type": "execute_result"
    }
   ],
   "source": [
    "@time chin, pun, cuaz, el, eslam = CollisionTimesSim4D(0.21)"
   ]
  },
  {
   "cell_type": "code",
   "execution_count": 48,
   "metadata": {},
   "outputs": [],
   "source": [
    "deltaslog=-11:0.5:-3\n",
    "rs=rmax.-exp.(deltaslog);"
   ]
  },
  {
   "cell_type": "code",
   "execution_count": 49,
   "metadata": {},
   "outputs": [
    {
     "name": "stdout",
     "output_type": "stream",
     "text": [
      "en el hop direccion 4, hopamos 395589 veces con radio 0.4048056031101862\n",
      "en el hop direccion 4, hopamos 394348 veces con radio 0.4047947683616267\n",
      "en el hop direccion 4, hopamos 396681 veces con radio 0.404776904881214\n",
      "en el hop direccion 4, hopamos 395694 veces con radio 0.4047474529810888\n",
      "en el hop direccion 4, hopamos 397396 veces con radio 0.40469889500688977\n",
      "en el hop direccion 4, hopamos 396602 veces con radio 0.40461883644196583\n",
      "en el hop direccion 4, hopamos 395799 veces con radio 0.40448684218307396\n",
      "en el hop direccion 4, hopamos 395899 veces con radio 0.40426922044082864\n",
      "en el hop direccion 4, hopamos 400102 veces con radio 0.40391042284542195\n",
      "en el hop direccion 4, hopamos 405218 veces con radio 0.4033188656179989\n",
      "en el hop direccion 4, hopamos 411205 veces con radio 0.4023435526343101\n",
      "en el hop direccion 4, hopamos 420316 veces con radio 0.4007355333725124\n",
      "en el hop direccion 2, hopamos 5 veces con radio 0.398084357811891\n",
      "en el hop direccion 4, hopamos 436981 veces con radio 0.398084357811891\n",
      "en el hop direccion 2, hopamos 62 veces con radio 0.39371330827273415\n",
      "en el hop direccion 4, hopamos 461524 veces con radio 0.39371330827273415\n",
      "en el hop direccion 2, hopamos 758 veces con radio 0.3865066659222423\n",
      "en el hop direccion 4, hopamos 495741 veces con radio 0.3865066659222423\n",
      "en el hop direccion 2, hopamos 5824 veces con radio 0.374624921388658\n",
      "en el hop direccion 4, hopamos 536151 veces con radio 0.374624921388658\n",
      "en el hop direccion 2, hopamos 32494 veces con radio 0.3550352364431125\n",
      "en el hop direccion 4, hopamos 579663 veces con radio 0.3550352364431125\n",
      "1677.102119 seconds (3.38 G allocations: 236.480 GiB, 17.10% gc time)\n"
     ]
    }
   ],
   "source": [
    "#theo = vcat(broadcast(CollisionTimesTheo, rs)...);\n",
    "@time sim = vcat(broadcast(CollisionTimesSim4D, rs)...);"
   ]
  },
  {
   "cell_type": "code",
   "execution_count": null,
   "metadata": {},
   "outputs": [],
   "source": [
    "using JLD"
   ]
  },
  {
   "cell_type": "code",
   "execution_count": null,
   "metadata": {},
   "outputs": [],
   "source": [
    "nota=\" En esta corrida solo guardamos resultados numericos.\n",
    "Vienen en este orden.\n",
    "Columna      Que\n",
    "1            radios\n",
    "2            choque bolas\n",
    "3            error choque bolas\n",
    "4            pared 1 positiva\n",
    "5            error pared 1 positiva\n",
    "6,7          igual pared 1 negativa\n",
    "8,9,10,11          idem pared 2\n",
    "12,13,14,15  igual pared 3 (4dimensiones)\n",
    "16 a 19      igual pared 4\n",
    "20,21        hopp 1, error hop 1\n",
    "22,23        hopp 2, error hop 2\n",
    "24 a 27  hops los otros obio\n",
    "\"\n",
    "\n",
    "otranota=\"La variable h contiene los tamaños de la caja. \n",
    "La variable Nmax el numero de collisiones total.\n",
    "La variable rmax es el radio limite para cruzar en la direccion h2 (hopping in y direction)\"\n",
    "onde=\"hoppingclosetozero4D-1e8-20210225.jld\"\n",
    "\n",
    "h=(h1,h2,h3, h4)\n",
    "\n",
    "save(onde, \"nota01\", nota, \"nota02\", otranota, \"numericas\", sim, \"h\", h, \"Nmax\", Nmax, \"rmax\", rmax)\n"
   ]
  },
  {
   "cell_type": "code",
   "execution_count": null,
   "metadata": {},
   "outputs": [],
   "source": []
  },
  {
   "cell_type": "code",
   "execution_count": null,
   "metadata": {},
   "outputs": [],
   "source": [
    "sim[:,17]\n",
    "rs"
   ]
  },
  {
   "cell_type": "code",
   "execution_count": null,
   "metadata": {},
   "outputs": [],
   "source": [
    "using Plots"
   ]
  },
  {
   "cell_type": "code",
   "execution_count": null,
   "metadata": {},
   "outputs": [],
   "source": [
    "paupau=plot(xlim=(0.1,rs[1]+0.1), ylim=(0.001,4),\n",
    "   # xscale=:log,\n",
    "   # yscale=:log,\n",
    "    ylabel=\"mean horizontal hopping time\", size=(450, 300))\n",
    "scatter!(rs,sim[:,22], yerror=sim[:23])\n",
    "title!(\"hopp along h2\")\n",
    "xlabel!(\"r\")\n",
    "ylabel!(\"mean time\")"
   ]
  },
  {
   "cell_type": "code",
   "execution_count": null,
   "metadata": {},
   "outputs": [],
   "source": [
    "sim"
   ]
  },
  {
   "cell_type": "code",
   "execution_count": null,
   "metadata": {},
   "outputs": [],
   "source": [
    "scatter(sim[:,1], sim[:,10])\n",
    "title!(\"Hopping y\")\n",
    "xlabel!(\"r\")\n",
    "ylabel!(\"mean time\")"
   ]
  },
  {
   "cell_type": "code",
   "execution_count": null,
   "metadata": {},
   "outputs": [],
   "source": [
    "savefig(\"hop_axis_2_3D_inset.pdf\")"
   ]
  },
  {
   "cell_type": "code",
   "execution_count": null,
   "metadata": {},
   "outputs": [],
   "source": [
    "scatter(rs,sim[:,18] )\n",
    "plot!(rs,theo[:,11])\n",
    "title!(\"Hopping z\")\n",
    "xlabel!(\"r\")\n",
    "ylabel!(\"mean time\")"
   ]
  },
  {
   "cell_type": "markdown",
   "metadata": {},
   "source": [
    "A box with different dimensions"
   ]
  },
  {
   "cell_type": "code",
   "execution_count": null,
   "metadata": {},
   "outputs": [],
   "source": [
    "h1 = 1\n",
    "h2 = 2\n",
    "h3 = 3\n",
    "theo2 = vcat(broadcast(function (r)  CollisionTimesTheo(r, 3, [h1,h2,h3]) end, rs)...);\n",
    "sim2 = vcat(broadcast(function (r) CollisionTimesSim(r, h1, h2, h3) end , rs)...);\n",
    "\n",
    "nota=\"Los Resultados Teoricos y Simulados estan en dos tablas.\n",
    "Primera columna son los radios.\n",
    "Prmero las bolas entre ellas.\n",
    "Luego vienen en Teoricas los golpes con las paredes de un bola \n",
    "contra una pared asi: \n",
    "Columna   Pared\n",
    "2         x positiva\n",
    "3         x negativa\n",
    "4         y positiva\n",
    "5         y negativa\n",
    "6         z positiva\n",
    "7         z negativa\n",
    "Luego vienen los hops, \n",
    "8         hop x\n",
    "9         hop y\n",
    "10        hop z\n",
    "En las simulaciones, entre cada columna, en el mismo orden, hay una columna \n",
    "de errores estandar.\n",
    "\"\n",
    "otranota=\"La variable h contiene los tamaños de la caja. La variable Nmax el numero de collisiones total.\"\n",
    "onde=\"simulaRosa20201216-1930.jld\"\n",
    "\n",
    "h=(h1,h2,h3)\n",
    "\n",
    "save(onde, \"nota01\", nota, \"nota02\", otranota, \n",
    "    \"teoricas\" , theo, \"numericas\", sim, \"h\", h, \"Nmax\", Nmax)"
   ]
  },
  {
   "cell_type": "code",
   "execution_count": null,
   "metadata": {},
   "outputs": [],
   "source": [
    "using Plots\n",
    "scatter(rs,[s[1] for s in sim2])\n",
    "plot!(rs,[t[1] for t in theo2])\n",
    "title!(\"Disc collisions\")\n",
    "xlabel!(\"r\")\n",
    "ylabel!(\"mean time\")"
   ]
  },
  {
   "cell_type": "code",
   "execution_count": null,
   "metadata": {},
   "outputs": [],
   "source": [
    "scatter(rs,[s[2][1] for s in sim2])\n",
    "plot!(rs,[t[2][1] for t in theo2])\n",
    "title!(\"x wall collisions\")\n",
    "xlabel!(\"r\")\n",
    "ylabel!(\"mean time\")"
   ]
  },
  {
   "cell_type": "code",
   "execution_count": null,
   "metadata": {},
   "outputs": [],
   "source": [
    "scatter(rs,[s[2][3] for s in sim2])\n",
    "plot!(rs,[t[2][3] for t in theo2])\n",
    "title!(\"y wall collisions\")\n",
    "xlabel!(\"r\")\n",
    "ylabel!(\"mean time\")"
   ]
  },
  {
   "cell_type": "code",
   "execution_count": null,
   "metadata": {},
   "outputs": [],
   "source": [
    "scatter(rs,[s[2][5] for s in sim2])\n",
    "plot!(rs,[t[2][5] for t in theo2])\n",
    "title!(\"z wall collisions\")\n",
    "xlabel!(\"r\")\n",
    "ylabel!(\"mean time\")"
   ]
  },
  {
   "cell_type": "code",
   "execution_count": null,
   "metadata": {},
   "outputs": [],
   "source": [
    "scatter(rs,[s[3][1] for s in sim2])\n",
    "plot!(rs,[t[3][1] for t in theo2])\n",
    "title!(\"Hopping x\")\n",
    "xlabel!(\"r\")\n",
    "ylabel!(\"mean time\")"
   ]
  },
  {
   "cell_type": "code",
   "execution_count": null,
   "metadata": {},
   "outputs": [],
   "source": [
    "scatter(rs,[s[3][2] for s in sim])\n",
    "plot!(rs,[t[3][2] for t in theo])\n",
    "title!(\"Hopping y\")\n",
    "xlabel!(\"r\")\n",
    "ylabel!(\"mean time\")"
   ]
  },
  {
   "cell_type": "code",
   "execution_count": null,
   "metadata": {},
   "outputs": [],
   "source": [
    "scatter(rs,[s[3][3] for s in sim2])\n",
    "plot!(rs,[t[3][3] for t in theo2])\n",
    "title!(\"Hopping z\")\n",
    "xlabel!(\"r\")\n",
    "ylabel!(\"mean time\")"
   ]
  },
  {
   "cell_type": "code",
   "execution_count": null,
   "metadata": {},
   "outputs": [],
   "source": []
  }
 ],
 "metadata": {
  "@webio": {
   "lastCommId": null,
   "lastKernelId": null
  },
  "kernelspec": {
   "display_name": "Julia 1.4.1",
   "language": "julia",
   "name": "julia-1.4"
  },
  "language_info": {
   "file_extension": ".jl",
   "mimetype": "application/julia",
   "name": "julia",
   "version": "1.4.1"
  }
 },
 "nbformat": 4,
 "nbformat_minor": 4
}
