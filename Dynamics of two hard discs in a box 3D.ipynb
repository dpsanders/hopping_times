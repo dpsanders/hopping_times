{
 "cells": [
  {
   "cell_type": "markdown",
   "metadata": {},
   "source": [
    "# Two Disks in a Rectangular Box: mean first event times. 3D version.\n",
    "\n",
    "Here are the simulations and calculations, numerical vs. analytical, of the mean first times and their distributions, for a series of interesting events, namely, hopping, crashing and wall-hitting.\n",
    "\n",
    "The external file contains all the routines for initial conditions and dynamic rules.\n",
    "\n"
   ]
  },
  {
   "cell_type": "code",
   "execution_count": 1,
   "metadata": {},
   "outputs": [
    {
     "name": "stdout",
     "output_type": "stream",
     "text": [
      "0\n"
     ]
    },
    {
     "data": {
      "text/plain": [
       "dynamics"
      ]
     },
     "execution_count": 1,
     "metadata": {},
     "output_type": "execute_result"
    }
   ],
   "source": [
    "include(\"discs_in_box3D.jl\")"
   ]
  },
  {
   "cell_type": "code",
   "execution_count": 2,
   "metadata": {},
   "outputs": [
    {
     "data": {
      "text/plain": [
       "2.5"
      ]
     },
     "execution_count": 2,
     "metadata": {},
     "output_type": "execute_result"
    }
   ],
   "source": [
    "a=1\n",
    "a*5/2"
   ]
  },
  {
   "cell_type": "code",
   "execution_count": 3,
   "metadata": {},
   "outputs": [
    {
     "data": {
      "text/html": [
       "<script>\n",
       "// Immediately-invoked-function-expression to avoid global variables.\n",
       "(function() {\n",
       "    var warning_div = document.getElementById(\"webio-warning-18311210075892817191\");\n",
       "    var hide = function () {\n",
       "        var script = document.getElementById(\"webio-setup-12431411679130668537\");\n",
       "        var parent = script && script.parentElement;\n",
       "        var grandparent = parent && parent.parentElement;\n",
       "        if (grandparent) {\n",
       "            grandparent.style.display = \"none\";\n",
       "        }\n",
       "        warning_div.style.display = \"none\";\n",
       "    };\n",
       "    if (typeof Jupyter !== \"undefined\") {\n",
       "        console.log(\"WebIO detected Jupyter notebook environment.\");\n",
       "        // Jupyter notebook.\n",
       "        var extensions = (\n",
       "            Jupyter\n",
       "            && Jupyter.notebook.config.data\n",
       "            && Jupyter.notebook.config.data.load_extensions\n",
       "        );\n",
       "        if (extensions && extensions[\"webio-jupyter-notebook\"]) {\n",
       "            // Extension already loaded.\n",
       "            console.log(\"Jupyter WebIO nbextension detected; not loading ad-hoc.\");\n",
       "            hide();\n",
       "            return;\n",
       "        }\n",
       "    } else if (window.location.pathname.includes(\"/lab\")) {\n",
       "        // Guessing JupyterLa\n",
       "        console.log(\"Jupyter Lab detected; make sure the @webio/jupyter-lab-provider labextension is installed.\");\n",
       "        hide();\n",
       "        return;\n",
       "    }\n",
       "})();\n",
       "\n",
       "</script>\n",
       "<p\n",
       "    id=\"webio-warning-18311210075892817191\"\n",
       "    class=\"output_text output_stderr\"\n",
       "    style=\"padding: 1em; font-weight: bold;\"\n",
       ">\n",
       "    Unable to load WebIO. Please make sure WebIO works for your Jupyter client.\n",
       "    For troubleshooting, please see <a href=\"https://juliagizmos.github.io/WebIO.jl/latest/providers/ijulia/\">\n",
       "    the WebIO/IJulia documentation</a>.\n",
       "    <!-- TODO: link to installation docs. -->\n",
       "</p>\n"
      ],
      "text/plain": [
       "HTML{String}(\"<script>\\n// Immediately-invoked-function-expression to avoid global variables.\\n(function() {\\n    var warning_div = document.getElementById(\\\"webio-warning-18311210075892817191\\\");\\n    var hide = function () {\\n        var script = document.getElementById(\\\"webio-setup-12431411679130668537\\\");\\n        var parent = script && script.parentElement;\\n        var grandparent = parent && parent.parentElement;\\n        if (grandparent) {\\n            grandparent.style.display = \\\"none\\\";\\n        }\\n        warning_div.style.display = \\\"none\\\";\\n    };\\n    if (typeof Jupyter !== \\\"undefined\\\") {\\n        console.log(\\\"WebIO detected Jupyter notebook environment.\\\");\\n        // Jupyter notebook.\\n        var extensions = (\\n            Jupyter\\n            && Jupyter.notebook.config.data\\n            && Jupyter.notebook.config.data.load_extensions\\n        );\\n        if (extensions && extensions[\\\"webio-jupyter-notebook\\\"]) {\\n            // Extension already loaded.\\n            console.log(\\\"Jupyter WebIO nbextension detected; not loading ad-hoc.\\\");\\n            hide();\\n            return;\\n        }\\n    } else if (window.location.pathname.includes(\\\"/lab\\\")) {\\n        // Guessing JupyterLa\\n        console.log(\\\"Jupyter Lab detected; make sure the @webio/jupyter-lab-provider labextension is installed.\\\");\\n        hide();\\n        return;\\n    }\\n})();\\n\\n</script>\\n<p\\n    id=\\\"webio-warning-18311210075892817191\\\"\\n    class=\\\"output_text output_stderr\\\"\\n    style=\\\"padding: 1em; font-weight: bold;\\\"\\n>\\n    Unable to load WebIO. Please make sure WebIO works for your Jupyter client.\\n    For troubleshooting, please see <a href=\\\"https://juliagizmos.github.io/WebIO.jl/latest/providers/ijulia/\\\">\\n    the WebIO/IJulia documentation</a>.\\n    <!-- TODO: link to installation docs. -->\\n</p>\\n\")"
      ]
     },
     "metadata": {},
     "output_type": "display_data"
    },
    {
     "data": {
      "text/plain": [
       "Plots.GRBackend()"
      ]
     },
     "execution_count": 3,
     "metadata": {},
     "output_type": "execute_result"
    }
   ],
   "source": [
    "#auxiliary libs for ploting\n",
    "using Plots, Interact\n",
    "gr(fmt=\"png\", size=(640,480))"
   ]
  },
  {
   "cell_type": "code",
   "execution_count": 4,
   "metadata": {},
   "outputs": [
    {
     "name": "stdout",
     "output_type": "stream",
     "text": [
      "0\n",
      "  0.743458 seconds (1.59 M allocations: 102.275 MiB, 4.21% gc time)\n"
     ]
    }
   ],
   "source": [
    "# A small test. w is widht, h height, r is radius for both discs.\n",
    "h1, h2, h3 = 1, 1.5, 1.75\n",
    "r = 0.2\n",
    "#= dynamics returns a tuple of results, in which we have the timestamp of an event, the position of the center\n",
    "oof the discs, the velocites of each disc and the collition type according to following code:\n",
    "+1/-1 -> disc one hits first axis  wall\n",
    "+2/-2 -> disc one hits second axis wall\n",
    "+3/-3  -> disc one hits third axis wall\n",
    "+4/-4 -> disc two hits first axis wall.\n",
    "+5/-5 -> disc two hits second axis wall.\n",
    "+6/-6 -> disc two hits third axis wall.\n",
    "7 -> discs collide.\n",
    "=#\n",
    "@time times, positions, velocities, collision_types = dynamics(h1,h2,h3, r, 30000);"
   ]
  },
  {
   "cell_type": "code",
   "execution_count": 5,
   "metadata": {},
   "outputs": [
    {
     "name": "stdout",
     "output_type": "stream",
     "text": [
      "[0.9999999999999999, 0.9999999999999999, 0.9999999999999999, 0.9999999999999999, 0.9999999999999999, 0.9999999999999999, 0.9999999999999999, 0.9999999999999999, 0.9999999999999999, 0.9999999999999999, 0.9999999999999999, 0.9999999999999999, 0.9999999999999999, 0.9999999999999999, 0.9999999999999999, 0.9999999999999999, 0.9999999999999999, 0.9999999999999999, 0.9999999999999999, 0.9999999999999999, 0.9999999999999999, 0.9999999999999999, 0.9999999999999999, 0.9999999999999999, 0.9999999999999999, 0.9999999999999999, 0.9999999999999999, 0.9999999999999999, 0.9999999999999999, 1.0, 1.0, 1.0, 1.0, 1.0, 1.0, 1.0, 1.0, 0.9999999999999999, 0.9999999999999999, 0.9999999999999999, 0.9999999999999999, 0.9999999999999999, 0.9999999999999999, 0.9999999999999999, 0.9999999999999999, 0.9999999999999999, 0.9999999999999999, 0.9999999999999999, 0.9999999999999999, 0.9999999999999999, 0.9999999999999999, 0.9999999999999999, 0.9999999999999999, 0.9999999999999999, 0.9999999999999999, 0.9999999999999999, 0.9999999999999999, 0.9999999999999999, 0.9999999999999999, 0.9999999999999999, 0.9999999999999999, 0.9999999999999999, 0.9999999999999999, 0.9999999999999999, 0.9999999999999999, 0.9999999999999999, 0.9999999999999999, 1.0, 1.0, 1.0, 1.0, 1.0, 1.0, 1.0, 1.0, 1.0, 1.0, 1.0, 1.0, 1.0, 1.0, 1.0, 1.0, 1.0, 1.0, 1.0, 1.0, 1.0, 1.0, 1.0, 1.0, 1.0, 1.0, 1.0, 1.0, 1.0, 1.0, 1.0, 1.0, 1.0]\n"
     ]
    }
   ],
   "source": [
    "println(norm.(velocities)[1:100]) #Sanity Check"
   ]
  },
  {
   "cell_type": "code",
   "execution_count": 6,
   "metadata": {},
   "outputs": [
    {
     "name": "stdout",
     "output_type": "stream",
     "text": [
      "[1, -3, -1, 6, -4, 1, 7, -4, 2, -3, 4, 6, -5, -4, 7, 6, 4, -3, 7, -1, -5, -3, 1, 4, -1, 6, 7, 4, 6, 7, -1, -4, 1, -3, -1, 5, 4, 7, 5, 4, 6, -2, -1, -4, -5, 2, 4, -6, 7, 1, -5, -4, 2, 4, -1, 5, 3, -4, -2, 4, 1, -5, 7, -4, -6, 2, 4, 7, -1, 7, 4, 2, -4, -5, 1, 4, 7, -1, -4, -6, 3, 1, 2, 4, -1, 7, 2, -5, -1, 4, -3, -2, 5, -4, -5, 2, 5, 1, 4, -2]\n"
     ]
    }
   ],
   "source": [
    "println(collision_types[1:100])#Sanity Check"
   ]
  },
  {
   "cell_type": "code",
   "execution_count": 7,
   "metadata": {},
   "outputs": [],
   "source": [
    "#println(positions[1:100])"
   ]
  },
  {
   "cell_type": "markdown",
   "metadata": {},
   "source": [
    "The function `dynamics` returns data on the collisions that have occurred."
   ]
  },
  {
   "cell_type": "markdown",
   "metadata": {},
   "source": [
    "# Hopping"
   ]
  },
  {
   "cell_type": "markdown",
   "metadata": {},
   "source": [
    "The data from the simulation directly gives disc and wall collision times.\n",
    "The other times that we require are hopping times, both horizontal, when $x_1 = x_2$, and vertical, when $y_1 = y_2$. \n",
    "\n",
    "Vertical hops can be detected from the data when $y_2 - y_1$ changes sign between two consecutive collisions.\n",
    "Using the relative velocity $v_2 - v_1$, the vertical hopping time when $y_2 - y_1 = 0$ can be recovered."
   ]
  },
  {
   "cell_type": "code",
   "execution_count": 8,
   "metadata": {},
   "outputs": [
    {
     "data": {
      "text/plain": [
       "hopping_times"
      ]
     },
     "execution_count": 8,
     "metadata": {},
     "output_type": "execute_result"
    }
   ],
   "source": [
    "\"\"\"\n",
    "Calculate the times at which  hops occur in 3D (First Axis per default)\n",
    "\"\"\"\n",
    "function hopping_times(times, positions, velocities; dimax=1)\n",
    "    # dimax specifies which axis, 1 (\"x\"), 2 (\"y\"), 3, (\"z\")\n",
    "    Δxs = [x[dimax+3] - x[dimax] for x in positions]  # x_2 - x_1\n",
    "    Δus = [v[dimax+3] - v[dimax] for v in velocities]  # u_2 - u_1;\n",
    "    \n",
    "    # indices where there is a hop between collisions i and i+1: \n",
    "    hop_indices = findall(i->sign(Δxs[i]) != sign(Δxs[i+1]),1:(length(positions)-1) );  \n",
    "    \n",
    "    # x + t*u = 0   so   t = -x/u\n",
    "    hopping_times = times[hop_indices.+1] - (Δxs[hop_indices] ./ Δus[hop_indices])\n",
    "    \n",
    "    return hopping_times\n",
    "end\n",
    "## Verified by karel, it is correct.\n",
    " \n"
   ]
  },
  {
   "cell_type": "markdown",
   "metadata": {},
   "source": [
    " ## Analytical Expressions\n",
    " \n",
    " ### 1. Volume\n",
    " \n",
    " In this generalization, Volume has four regimes, acording to which hopping gets excluded as  radius of the balls grows. We will only deal this time with the case in which all hopping is possible. \n",
    " \n",
    " In the below functions, \"Neg\" indicates excluded Volume"
   ]
  },
  {
   "cell_type": "markdown",
   "metadata": {},
   "source": [
    " Superficie esfera S(d-1) = 2 pi^(d /2) / gamma(d/2)\n",
    " \n",
    " Volumen en esfera B(d-1) = S(d-2)/(d-1) = 2 * pi^((d-1)/2)/(gamma((d-1)/2)*(d-1))\n",
    "\n",
    "En este caso, S(5)/B(5)= pi^3 * 5 * gama(5/2)/(pi^(5/2)*gamma(3))"
   ]
  },
  {
   "cell_type": "code",
   "execution_count": 9,
   "metadata": {},
   "outputs": [
    {
     "data": {
      "text/plain": [
       "vol (generic function with 1 method)"
      ]
     },
     "execution_count": 9,
     "metadata": {},
     "output_type": "execute_result"
    }
   ],
   "source": [
    "\n",
    "cte=π * 15/8  #E=1/2, -> abs(v^2)=1 as above\n",
    "\n",
    " #= maximal possible radius for balls to hope in the first axis direction!\n",
    "It is the maximal size of discs possible for a lesser dimensional table with the other axis as parameters!!\n",
    "=#\n",
    "\n",
    "#given that we do not have formulas for the disjoint ergodic componets,\n",
    "# we preclude all hoping\n",
    "rhopmax(x1,x2)=(x1+x2-sqrt(2*x1*x2))/2\n",
    "rhopmax1=rhopmax(h2,h3)\n",
    "rhopmax2=rhopmax(h3,h1)\n",
    "rhopmax3=rhopmax(h1,h2)\n",
    "\n",
    "#chicharronera for maximal radius\n",
    "ach=4*(3-1)\n",
    "bch=-4*(h1+h2+h3)\n",
    "cch=h1^2+h2^2+h3^2\n",
    "rmax=(-bch-sqrt(bch^2-4*ach*cch))/(2*ach)\n",
    "#rfin=minimum([rmax, rhopmax1, rhopmax2, rhopmax3])\n",
    "# volume formula is discontinuous at minimum(h1,h2,h3)/4 !!!\n",
    "rfin=0.25\n",
    "\n",
    "sr2= sqrt(2)\n",
    "\n",
    "volBox(a1, a2, a3) = 64 *a1^2*a2^2*a3^2\n",
    "volNegfree(a1, a2, a3, r) = 64* ( (sr2*r)^3*π/6*a1*a2*a3*sr2^3\n",
    "                                -(sr2*r)^4/16*π*(a1*a2+a2*a3+a3*a1)*sr2^2\n",
    "                                +(sr2*r)^5/15*(a1+a2+a3)*sr2\n",
    "                                -(sr2*r)^6/48)\n",
    "\n",
    "\n",
    "function vol(a, b, c, r)\n",
    "    result = volBox(a, b, c) - volNegfree(a, b, c, r)\n",
    "    return result\n",
    "end \n",
    "\n"
   ]
  },
  {
   "cell_type": "code",
   "execution_count": 10,
   "metadata": {},
   "outputs": [
    {
     "data": {
      "text/plain": [
       "(0.47935607626104004, 0.43958565330651467, 0.3839745962155614, 0.479538809181949)"
      ]
     },
     "execution_count": 10,
     "metadata": {},
     "output_type": "execute_result"
    }
   ],
   "source": [
    "rhopmax1, rhopmax2, rhopmax3, rmax"
   ]
  },
  {
   "cell_type": "markdown",
   "metadata": {},
   "source": [
    "## 2 Areas\n",
    "\n",
    "#### Hopping Areas"
   ]
  },
  {
   "cell_type": "code",
   "execution_count": 11,
   "metadata": {},
   "outputs": [
    {
     "data": {
      "text/plain": [
       "area_horiz_hop3D (generic function with 1 method)"
      ]
     },
     "execution_count": 11,
     "metadata": {},
     "output_type": "execute_result"
    }
   ],
   "source": [
    "\"\"\" Explore hops along the first (a or h1) dimension \"\"\" \n",
    "\n",
    "function area_horiz_hop3D(a, b, c, r)\n",
    "    vnegbc=16*pi*b*c*r^2-64/3*(b+c)*r^3+8*r^4\n",
    "    vposbc=16*b^2*c^2\n",
    "    result= 2 *sr2* a * (vposbc-vnegbc)\n",
    "\n",
    "    return result\n",
    "end\n"
   ]
  },
  {
   "cell_type": "markdown",
   "metadata": {},
   "source": [
    "### collision with wall\n",
    "When hopping is no longer possible, the volume is split into disjoint components. This is equivalent to a factor\n",
    "in the area of 2 or 4. Given that this only is relevant in this case, we take put those factors here. In the case of collition between discs, that factor is canceled as both the Volume and Area get split equally."
   ]
  },
  {
   "cell_type": "code",
   "execution_count": 12,
   "metadata": {},
   "outputs": [
    {
     "data": {
      "text/plain": [
       "area_wall3D"
      ]
     },
     "execution_count": 12,
     "metadata": {},
     "output_type": "execute_result"
    }
   ],
   "source": [
    "\" It hits the h3 or c wall (the third wall)\"\n",
    "function area_wall3D(a, b, c, r)\n",
    "    \n",
    "    partepositiva= 32 * c * a^2 * b^2\n",
    "    partenegativa= (64 * pi * (a * b ) * r^3/3 \n",
    "                    - 8 * pi * ( a + b) * r^4 \n",
    "                    + 128/15 * r ^5)\n",
    "  \n",
    "    \n",
    "    result = partepositiva - partenegativa \n",
    "     # probemos negativa sola primero\n",
    "    #result = partenegativa\n",
    "    \n",
    "    return result\n",
    "end"
   ]
  },
  {
   "cell_type": "markdown",
   "metadata": {},
   "source": [
    "###  Collition between discs:\n",
    "Although here the space get also split,the factor accounting for that does not appear as it cancels itself in Area and Volume."
   ]
  },
  {
   "cell_type": "code",
   "execution_count": 13,
   "metadata": {},
   "outputs": [
    {
     "data": {
      "text/plain": [
       "area_col3D (generic function with 1 method)"
      ]
     },
     "execution_count": 13,
     "metadata": {},
     "output_type": "execute_result"
    }
   ],
   "source": [
    "\"\"\" Analytical Area for Collitions 3D \"\"\"\n",
    "\n",
    "function area_col3D(a,b,c,r)\n",
    "    # asumiendo r<rhopmax\n",
    "    result= 64 * sr2 * (2 * π * r^2 * a * b *c \n",
    "                - r^3 * π * (a*b+b*c+c*a)\n",
    "                + 4 * r ^4 / 3* (a+b+c)\n",
    "                -r^5/2)\n",
    "end"
   ]
  },
  {
   "cell_type": "markdown",
   "metadata": {},
   "source": [
    "### 3. Mean Times Machta Zwanzig\n",
    "\n",
    "We combine area and volume with the general factor to obtain the theoretical mean times according to Machta Zwanzig Formula"
   ]
  },
  {
   "cell_type": "code",
   "execution_count": 14,
   "metadata": {},
   "outputs": [
    {
     "data": {
      "text/plain": [
       "disc_collision_analytical (generic function with 1 method)"
      ]
     },
     "execution_count": 14,
     "metadata": {},
     "output_type": "execute_result"
    }
   ],
   "source": [
    "horiz_hop_analytical(a,b, c, r)=cte*vol(a,b,c, r)/area_horiz_hop3D(a,b,c,r)\n",
    "upper_wall_analytical(a,b,c,r)=cte*vol(a,b,c,r)/area_wall3D(a,b,c,r) #perfect\n",
    "disc_collision_analytical(a,b,c,r)=cte*vol(a,b,c,r)/area_col3D(a,b,c,r)"
   ]
  },
  {
   "cell_type": "markdown",
   "metadata": {},
   "source": [
    "The simulation function gives us a quick sanity check on the four event formulas above, but it doesn't give statistics. We relegate that to some other functions below."
   ]
  },
  {
   "cell_type": "code",
   "execution_count": 15,
   "metadata": {},
   "outputs": [
    {
     "data": {
      "text/plain": [
       "simulation (generic function with 3 methods)"
      ]
     },
     "execution_count": 15,
     "metadata": {},
     "output_type": "execute_result"
    }
   ],
   "source": [
    "function simulation(h1, h2, h3, num_collisions=10^3, rango=0.005:0.005:rfin)\n",
    "    \n",
    "    num_horiz_hop_data=Float64[]\n",
    "    exact_horiz_hop_data=Float64[]\n",
    "        \n",
    "    num_disc_collision_data = Float64[]\n",
    "    exact_disc_collision_data = Float64[]\n",
    "    \n",
    "    num_upwall_data = Float64[]\n",
    "    exact_upwall_data = Float64[]\n",
    "    \n",
    "\n",
    "    \n",
    "    for r in rango\n",
    "        print(r, \" \")\n",
    "        flush(stdout)\n",
    "        \n",
    "        a = h1/2 - r\n",
    "        b = h2/2 - r\n",
    "        c = h3/2 -r\n",
    "        \n",
    "        \n",
    "        times, positions, velocities, collision_types = dynamics(h1, h2, h3, r, num_collisions);\n",
    "        \n",
    "        \n",
    "        horiz_hopping_times = hopping_times(times, positions, velocities, dimax=1)\n",
    "\n",
    "        push!(num_horiz_hop_data, mean(diff(horiz_hopping_times)))   # diff gives inter-hop times\n",
    "        push!(exact_horiz_hop_data, horiz_hop_analytical(a, b, c,  r))\n",
    "        \n",
    "        disc_collision_times = times[collision_types .== 7]\n",
    "        push!(num_disc_collision_data, mean(diff(disc_collision_times)))   # diff gives inter-hop times\n",
    "        push!(exact_disc_collision_data, disc_collision_analytical(a, b, c, r))\n",
    "       \n",
    "        upwall_times = times[collision_types .== -6]\n",
    "        push!(num_upwall_data, mean(diff(upwall_times)))   # diff gives inter-hop times\n",
    "        push!(exact_upwall_data, upper_wall_analytical(a, b,c, r))\n",
    "        \n",
    "    end\n",
    "    \n",
    "    return (num_horiz_hop_data, exact_horiz_hop_data, num_disc_collision_data, \n",
    "        exact_disc_collision_data, num_upwall_data, exact_upwall_data)\n",
    "                \n",
    "end"
   ]
  },
  {
   "cell_type": "markdown",
   "metadata": {},
   "source": [
    "# A general Test\n",
    "\n",
    "This first simulation produces a general sanity test. More accurate simulations for the specific events are below . The Figures here are NOT the ones in the paper, this are averages done with lower samples meant as a sanity check."
   ]
  },
  {
   "cell_type": "code",
   "execution_count": 16,
   "metadata": {},
   "outputs": [
    {
     "name": "stdout",
     "output_type": "stream",
     "text": [
      "0.01 0\n",
      "0.02 0\n",
      "0.03 0\n",
      "0.04 0\n",
      "0.05 0\n",
      "0.06 0\n",
      "0.07 0\n",
      "0.08 0\n",
      "0.09 0\n",
      "0.1 0\n",
      "0.11 0\n",
      "0.12 0\n",
      "0.13 0\n",
      "0.14 0\n",
      "0.15 0\n",
      "0.16 0\n",
      "0.17 0\n",
      "0.18 0\n",
      "0.19 0\n",
      "0.2 0\n",
      "0.21 0\n",
      "0.22 0\n",
      "0.23 0\n",
      "0.24 0\n",
      "0.25 0\n",
      " 22.228438 seconds (145.02 M allocations: 16.573 GiB, 45.57% gc time)\n"
     ]
    }
   ],
   "source": [
    "nevents=5*10^5\n",
    "rango=0.01:0.01:0.25\n",
    "@time (num_horiz_hop_data, exact_horiz_hop_data, num_disc_collision_data, \n",
    "    exact_disc_collision_data, num_upwall_data, exact_upwalldata)= simulation(h1, h2, h3, nevents, rango);"
   ]
  },
  {
   "cell_type": "code",
   "execution_count": 17,
   "metadata": {},
   "outputs": [],
   "source": [
    "using JLD # To save the data, and save us headeaches"
   ]
  },
  {
   "cell_type": "code",
   "execution_count": 18,
   "metadata": {},
   "outputs": [],
   "source": [
    "save(\"DatosNumericos3D_10a5.jld\", \"rango\", rango, \n",
    "    \"num_horiz_hop_data\", num_horiz_hop_data,\n",
    "    \"num_disc_collision_data\", num_disc_collision_data,\n",
    "    \"num_upwall_data\", num_upwall_data\n",
    ")"
   ]
  },
  {
   "cell_type": "code",
   "execution_count": 19,
   "metadata": {},
   "outputs": [
    {
     "data": {
      "image/png": "[encoded data removed]"
     },
     "execution_count": 19,
     "metadata": {},
     "output_type": "execute_result"
    }
   ],
   "source": [
    "Plots.scatter(rango, num_upwall_data, m=:square, label=\"numerical\", size=(650,420), guidefont=(30,\"Courier\"))\n",
    "dibujo=plot!(rango, exact_upwalldata, label=\"exact\", linewidth=2) #absolut PERFECT\n",
    "savefig(\"test.pdf\")\n",
    "dibujo\n"
   ]
  },
  {
   "cell_type": "code",
   "execution_count": 20,
   "metadata": {
    "scrolled": false
   },
   "outputs": [
    {
     "data": {
      "image/png": "[encoded data removed]"
     },
     "execution_count": 20,
     "metadata": {},
     "output_type": "execute_result"
    }
   ],
   "source": [
    "Plots.scatter(rango, log.(num_disc_collision_data), m=:square, label=\"numerical\")\n",
    "plot!(rango, log.(exact_disc_collision_data), label=\"exact\")\n"
   ]
  },
  {
   "cell_type": "code",
   "execution_count": 21,
   "metadata": {},
   "outputs": [
    {
     "data": {
      "image/png": "[encoded data removed]"
     },
     "execution_count": 21,
     "metadata": {},
     "output_type": "execute_result"
    }
   ],
   "source": [
    "plot(rango, num_horiz_hop_data, m=:square, label=\"numerical\")\n",
    "\n",
    "plot!(rango, exact_horiz_hop_data, label=\"exact\") "
   ]
  },
  {
   "cell_type": "code",
   "execution_count": 22,
   "metadata": {},
   "outputs": [
    {
     "name": "stdout",
     "output_type": "stream",
     "text": [
      "search: \u001b[0m\u001b[1md\u001b[22m\u001b[0m\u001b[1mi\u001b[22m\u001b[0m\u001b[1mf\u001b[22m\u001b[0m\u001b[1mf\u001b[22m sym\u001b[0m\u001b[1md\u001b[22m\u001b[0m\u001b[1mi\u001b[22m\u001b[0m\u001b[1mf\u001b[22m\u001b[0m\u001b[1mf\u001b[22m set\u001b[0m\u001b[1md\u001b[22m\u001b[0m\u001b[1mi\u001b[22m\u001b[0m\u001b[1mf\u001b[22m\u001b[0m\u001b[1mf\u001b[22m sym\u001b[0m\u001b[1md\u001b[22m\u001b[0m\u001b[1mi\u001b[22m\u001b[0m\u001b[1mf\u001b[22m\u001b[0m\u001b[1mf\u001b[22m! set\u001b[0m\u001b[1md\u001b[22m\u001b[0m\u001b[1mi\u001b[22m\u001b[0m\u001b[1mf\u001b[22m\u001b[0m\u001b[1mf\u001b[22m! log\u001b[0m\u001b[1md\u001b[22m\u001b[0m\u001b[1mi\u001b[22m\u001b[0m\u001b[1mf\u001b[22m\u001b[0m\u001b[1mf\u001b[22mcdf Cptr\u001b[0m\u001b[1md\u001b[22m\u001b[0m\u001b[1mi\u001b[22m\u001b[0m\u001b[1mf\u001b[22m\u001b[0m\u001b[1mf\u001b[22m_t color\u001b[0m\u001b[1md\u001b[22m\u001b[0m\u001b[1mi\u001b[22m\u001b[0m\u001b[1mf\u001b[22m\u001b[0m\u001b[1mf\u001b[22m\n",
      "\n"
     ]
    },
    {
     "data": {
      "text/latex": [
       "\\begin{verbatim}\n",
       "diff(A::AbstractVector)\n",
       "diff(A::AbstractArray; dims::Integer)\n",
       "\\end{verbatim}\n",
       "Finite difference operator on a vector or a multidimensional array \\texttt{A}. In the latter case the dimension to operate on needs to be specified with the \\texttt{dims} keyword argument.\n",
       "\n",
       "\\begin{quote}\n",
       "\\textbf{compat}\n",
       "\n",
       "Julia 1.1\n",
       "\n",
       "\\texttt{diff} for arrays with dimension higher than 2 requires at least Julia 1.1.\n",
       "\n",
       "\\end{quote}\n",
       "\\section{Examples}\n",
       "\\begin{verbatim}\n",
       "julia> a = [2 4; 6 16]\n",
       "2×2 Array{Int64,2}:\n",
       " 2   4\n",
       " 6  16\n",
       "\n",
       "julia> diff(a, dims=2)\n",
       "2×1 Array{Int64,2}:\n",
       "  2\n",
       " 10\n",
       "\n",
       "julia> diff(vec(a))\n",
       "3-element Array{Int64,1}:\n",
       "  4\n",
       " -2\n",
       " 12\n",
       "\\end{verbatim}\n",
       "\\rule{\\textwidth}{1pt}\n",
       "Perform a difference between two HyperRectangles.\n",
       "\n"
      ],
      "text/markdown": [
       "```\n",
       "diff(A::AbstractVector)\n",
       "diff(A::AbstractArray; dims::Integer)\n",
       "```\n",
       "\n",
       "Finite difference operator on a vector or a multidimensional array `A`. In the latter case the dimension to operate on needs to be specified with the `dims` keyword argument.\n",
       "\n",
       "!!! compat \"Julia 1.1\"\n",
       "    `diff` for arrays with dimension higher than 2 requires at least Julia 1.1.\n",
       "\n",
       "\n",
       "# Examples\n",
       "\n",
       "```jldoctest\n",
       "julia> a = [2 4; 6 16]\n",
       "2×2 Array{Int64,2}:\n",
       " 2   4\n",
       " 6  16\n",
       "\n",
       "julia> diff(a, dims=2)\n",
       "2×1 Array{Int64,2}:\n",
       "  2\n",
       " 10\n",
       "\n",
       "julia> diff(vec(a))\n",
       "3-element Array{Int64,1}:\n",
       "  4\n",
       " -2\n",
       " 12\n",
       "```\n",
       "\n",
       "---\n",
       "\n",
       "Perform a difference between two HyperRectangles.\n"
      ],
      "text/plain": [
       "\u001b[36m  diff(A::AbstractVector)\u001b[39m\n",
       "\u001b[36m  diff(A::AbstractArray; dims::Integer)\u001b[39m\n",
       "\n",
       "  Finite difference operator on a vector or a multidimensional array \u001b[36mA\u001b[39m. In the\n",
       "  latter case the dimension to operate on needs to be specified with the \u001b[36mdims\u001b[39m\n",
       "  keyword argument.\n",
       "\n",
       "\u001b[39m\u001b[1m  │ \u001b[22m\u001b[39m\u001b[1mJulia 1.1\u001b[22m\n",
       "\u001b[39m\u001b[1m  │\u001b[22m\n",
       "\u001b[39m\u001b[1m  │\u001b[22m  \u001b[36mdiff\u001b[39m for arrays with dimension higher than 2 requires at least\n",
       "\u001b[39m\u001b[1m  │\u001b[22m  Julia 1.1.\n",
       "\n",
       "\u001b[1m  Examples\u001b[22m\n",
       "\u001b[1m  ≡≡≡≡≡≡≡≡≡≡\u001b[22m\n",
       "\n",
       "\u001b[36m  julia> a = [2 4; 6 16]\u001b[39m\n",
       "\u001b[36m  2×2 Array{Int64,2}:\u001b[39m\n",
       "\u001b[36m   2   4\u001b[39m\n",
       "\u001b[36m   6  16\u001b[39m\n",
       "\u001b[36m  \u001b[39m\n",
       "\u001b[36m  julia> diff(a, dims=2)\u001b[39m\n",
       "\u001b[36m  2×1 Array{Int64,2}:\u001b[39m\n",
       "\u001b[36m    2\u001b[39m\n",
       "\u001b[36m   10\u001b[39m\n",
       "\u001b[36m  \u001b[39m\n",
       "\u001b[36m  julia> diff(vec(a))\u001b[39m\n",
       "\u001b[36m  3-element Array{Int64,1}:\u001b[39m\n",
       "\u001b[36m    4\u001b[39m\n",
       "\u001b[36m   -2\u001b[39m\n",
       "\u001b[36m   12\u001b[39m\n",
       "\n",
       "  ────────────────────────────────────────────────────────────────────────────\n",
       "\n",
       "  Perform a difference between two HyperRectangles."
      ]
     },
     "execution_count": 22,
     "metadata": {},
     "output_type": "execute_result"
    }
   ],
   "source": [
    "?diff"
   ]
  },
  {
   "cell_type": "markdown",
   "metadata": {},
   "source": [
    "# Hitting right wall"
   ]
  },
  {
   "cell_type": "markdown",
   "metadata": {},
   "source": [
    "Simulation to obtain statistics of collision of disk 1 with the right wall."
   ]
  },
  {
   "cell_type": "code",
   "execution_count": 23,
   "metadata": {},
   "outputs": [
    {
     "data": {
      "text/plain": [
       "simulationhitwall (generic function with 2 methods)"
      ]
     },
     "execution_count": 23,
     "metadata": {},
     "output_type": "execute_result"
    }
   ],
   "source": [
    "function simulationhitwall(w, h, num_collisions=10^5)\n",
    "    \n",
    "    num_hitting_times = Float64[]\n",
    "    exact_hitting_times = Float64[]\n",
    "    σ=Float64[]\n",
    "    stderror=Float64[]\n",
    "    \n",
    "    rs = 0.0051:0.00256:rmax\n",
    "    \n",
    "    for r in rs\n",
    "        print(r, \" \")\n",
    "        \n",
    "        a = w/2 - r\n",
    "        b = h/2 - r\n",
    "    \n",
    "        nhits=0\n",
    "        disc_1_hits_right_wall_times=[]\n",
    "        while(nhits<200)\n",
    "            times, positions, velocities, collision_types = dynamics(w, h, r, num_collisions); \n",
    "            disc_1_hits_right_wall_times = diff(times[collision_types .== 1])\n",
    "            nhits=length(disc_1_hits_right_wall_times)\n",
    "   #         println(r, \" \", nhits, \"tu abuela\", disc_1_hits_right_wall_times[1])\n",
    "        end\n",
    "        \n",
    "        auxhit=mean(disc_1_hits_right_wall_times)\n",
    "   #     println(auxhit)\n",
    "        push!(num_hitting_times, auxhit)\n",
    "        \n",
    "        push!(exact_hitting_times, right_wall_analytical(a, b, r))\n",
    "        aux=std(disc_1_hits_right_wall_times)\n",
    "        push!(σ, aux)\n",
    "        push!(stderror, aux/sqrt(nhits))\n",
    "        \n",
    "        \n",
    "    end\n",
    "    \n",
    "    return rs, num_hitting_times, exact_hitting_times, σ, stderror\n",
    "end"
   ]
  },
  {
   "cell_type": "code",
   "execution_count": 24,
   "metadata": {},
   "outputs": [
    {
     "name": "stdout",
     "output_type": "stream",
     "text": [
      "0.0051 "
     ]
    },
    {
     "ename": "MethodError",
     "evalue": "MethodError: no method matching dynamics(::Float64, ::Float64, ::Float64, ::Int64)\nClosest candidates are:\n  dynamics(::Any, ::Any, ::Any, ::Any, !Matched::Any) at /home/karel/postdocSanders/TwoDiskinaRectangle/julia_code/discs_in_box3D.jl:75",
     "output_type": "error",
     "traceback": [
      "MethodError: no method matching dynamics(::Float64, ::Float64, ::Float64, ::Int64)\nClosest candidates are:\n  dynamics(::Any, ::Any, ::Any, ::Any, !Matched::Any) at /home/karel/postdocSanders/TwoDiskinaRectangle/julia_code/discs_in_box3D.jl:75",
      "",
      "Stacktrace:",
      " [1] simulationhitwall(::Float64, ::Float64, ::Int64) at ./In[23]:19",
      " [2] top-level scope at In[24]:2"
     ]
    }
   ],
   "source": [
    "nevents=10^6\n",
    "rs, num_hitting_times, exact_hitting_times, stdeviation, stderror =simulationhitwall(1.5, 1.0, nevents);"
   ]
  },
  {
   "cell_type": "code",
   "execution_count": 25,
   "metadata": {},
   "outputs": [
    {
     "ename": "UndefVarError",
     "evalue": "UndefVarError: rhmax not defined",
     "output_type": "error",
     "traceback": [
      "UndefVarError: rhmax not defined",
      "",
      "Stacktrace:",
      " [1] top-level scope at In[25]:1"
     ]
    }
   ],
   "source": [
    "linea1x=[rhmax, rhmax]\n",
    "linea1y=[0,7.5]\n",
    "linea2x=[rvmax,rvmax]\n",
    "linea2y=linea1y\n",
    "p=plot(xlim=(0,rmax), ylim=(0,7.5),xlabel=\"radius\",ylabel=\"time\", size=(640,480) )\n",
    "scatter!(rs, num_hitting_times, m=:square, ms=2, label=\"numerical\", yerror=stderror)\n",
    "plot!(rs, exact_hitting_times, label=\"exact\", lw=3)\n",
    "plot!(linea1x,linea1y,label=\"rhmax\", lw=1.0, ls=:dash)\n",
    "plot!(linea2x, linea2y,label=\"rvmax\", lw=1.0, ls=:dash)\n",
    "savefig(\"../articulo/figures/HitRightWall01.pdf\")\n",
    "p"
   ]
  },
  {
   "cell_type": "code",
   "execution_count": 26,
   "metadata": {},
   "outputs": [
    {
     "data": {
      "text/plain": [
       "1000000"
      ]
     },
     "execution_count": 26,
     "metadata": {},
     "output_type": "execute_result"
    }
   ],
   "source": [
    "nevents"
   ]
  },
  {
   "cell_type": "markdown",
   "metadata": {
    "collapsed": true
   },
   "source": [
    "# Disc collisions"
   ]
  },
  {
   "cell_type": "code",
   "execution_count": 27,
   "metadata": {},
   "outputs": [
    {
     "data": {
      "text/plain": [
       "simulation_disc_collisions (generic function with 2 methods)"
      ]
     },
     "execution_count": 27,
     "metadata": {},
     "output_type": "execute_result"
    }
   ],
   "source": [
    "function simulation_disc_collisions(w, h, num_collisions=10^5)\n",
    "    \n",
    "    num_times = Float64[]\n",
    "    exact_times = Float64[]\n",
    "    σ=Float64[]\n",
    "    stderror=Float64[]\n",
    "    \n",
    "    rs = 0.0051:0.005:rmax\n",
    "    \n",
    "    for r in rs\n",
    "        print(r, \" \")\n",
    "        \n",
    "        a = w/2 - r\n",
    "        b = h/2 - r\n",
    "    \n",
    "        times, positions, velocities, collision_types = dynamics(w, h, r, num_collisions);\n",
    "        \n",
    "        collision_times = diff(times[collision_types .== 5])\n",
    "        nhits=length(collision_times)\n",
    "        \n",
    "        push!(num_times, mean(collision_times))   # diff gives inter-hop times\n",
    "        push!(exact_times, disc_collision_analytical(a, b, r))\n",
    "        aux=std(num_times)\n",
    "        push!(σ, aux)\n",
    "        push!(stderror, aux/sqrt(nhits))\n",
    "        \n",
    "        \n",
    "    end\n",
    "    \n",
    "    return rs, num_times, exact_times, σ, stderror\n",
    "end"
   ]
  },
  {
   "cell_type": "code",
   "execution_count": 28,
   "metadata": {},
   "outputs": [
    {
     "ename": "UndefVarError",
     "evalue": "UndefVarError: w not defined",
     "output_type": "error",
     "traceback": [
      "UndefVarError: w not defined",
      "",
      "Stacktrace:",
      " [1] top-level scope at In[28]:1"
     ]
    }
   ],
   "source": [
    "rs, num_disc_collision_times, exact_disc_collision_times, colsig, colerror = simulation_disc_collisions(w, h, nevents);"
   ]
  },
  {
   "cell_type": "code",
   "execution_count": 29,
   "metadata": {},
   "outputs": [
    {
     "ename": "UndefVarError",
     "evalue": "UndefVarError: colerror not defined",
     "output_type": "error",
     "traceback": [
      "UndefVarError: colerror not defined",
      "",
      "Stacktrace:",
      " [1] top-level scope at In[29]:4"
     ]
    }
   ],
   "source": [
    "linea1y=[0,80]\n",
    "linea2y=linea1y\n",
    "p=plot(xlim=(0,rmax), ylim=(0,80),xlabel=\"radius\",ylabel=\"time\", size=(640,480) )\n",
    "scatter!(rs, num_disc_collision_times, m=:square, ms=2, label=\"numerical\", yerror=colerror)\n",
    "plot!(rs, exact_disc_collision_times, label=\"exact\", lw=2)\n",
    "plot!(linea1x,linea1y,label=\"rhmax\", lw=1.0, ls=:dash)\n",
    "plot!(linea2x, linea2y,label=\"rvmax\", lw=1.0, ls=:dash)\n",
    "savefig(\"../articulo/figures/DiscCollitions01.pdf\")\n",
    "p"
   ]
  },
  {
   "cell_type": "markdown",
   "metadata": {
    "collapsed": true
   },
   "source": [
    "## Vertical hopping"
   ]
  },
  {
   "cell_type": "code",
   "execution_count": 30,
   "metadata": {},
   "outputs": [
    {
     "data": {
      "text/plain": [
       "simulation_vert_hopping (generic function with 2 methods)"
      ]
     },
     "execution_count": 30,
     "metadata": {},
     "output_type": "execute_result"
    }
   ],
   "source": [
    "function simulation_vert_hopping(w, h, num_collisions=10^5)\n",
    "    \n",
    "    num_times = Float64[]\n",
    "    exact_times = Float64[]\n",
    "    \n",
    "     σ=Float64[]\n",
    "    stderror=Float64[]\n",
    "    \n",
    "    \n",
    "    rs = 0.005:0.005:rvmax\n",
    "    \n",
    "    for r in rs\n",
    "        print(r, \" \")\n",
    "    \n",
    "        a = w/2 - r\n",
    "        b = h/2 - r\n",
    "    \n",
    "        vert_hopping_times=[]\n",
    "        nhits=0\n",
    "    \n",
    "    #    while(nhits<200)\n",
    "            times, positions, velocities, collision_types = dynamics(w, h, r, num_collisions);\n",
    "            vert_hopping_times = diff(vertical_hopping_times(times, positions, velocities))\n",
    "            nhits=length(vert_hopping_times)\n",
    "#        end\n",
    "             \n",
    "        push!(num_times, mean(vert_hopping_times))   # diff gives inter-hop times\n",
    "        push!(exact_times, vert_hop_analytical(a, b, r))\n",
    "        \n",
    "        aux=std(vert_hopping_times)\n",
    "        push!(σ, aux)\n",
    "        push!(stderror, aux/sqrt(nhits))\n",
    "       \n",
    "    end\n",
    "\n",
    "    return rs, num_times,exact_times, σ, stderror\n",
    "\n",
    "\n",
    "end"
   ]
  },
  {
   "cell_type": "code",
   "execution_count": 31,
   "metadata": {},
   "outputs": [
    {
     "ename": "UndefVarError",
     "evalue": "UndefVarError: w not defined",
     "output_type": "error",
     "traceback": [
      "UndefVarError: w not defined",
      "",
      "Stacktrace:",
      " [1] top-level scope at In[31]:1"
     ]
    }
   ],
   "source": [
    "rs, num_vert_hopping_times, exact_vert_hopping_times , vhsigma, vhoperror = simulation_vert_hopping(w, h, nevents);"
   ]
  },
  {
   "cell_type": "code",
   "execution_count": 32,
   "metadata": {},
   "outputs": [
    {
     "ename": "UndefVarError",
     "evalue": "UndefVarError: rvmax not defined",
     "output_type": "error",
     "traceback": [
      "UndefVarError: rvmax not defined",
      "",
      "Stacktrace:",
      " [1] top-level scope at In[32]:3"
     ]
    }
   ],
   "source": [
    "linea1y=[0,2]\n",
    "linea2y=linea1y\n",
    "p=plot(xlim=(0,rvmax), ylim=(0,2),title=\"Mean Time, Vertical Hop\", xlabel=\"radius\",ylabel=\"time\" , size=(640,480))\n",
    "scatter!(rs, num_vert_hopping_times, m=:square, ms=2, label=\"numerical\", yerror=vhoperror)\n",
    "plot!(rs, exact_vert_hopping_times, label=\"exact\", lw=2)\n",
    "plot!(linea1x,linea1y,label=\"rhmax\", lw=1.0, ls=:dash)\n",
    "plot!(linea2x, linea2y,label=\"rvmax\", lw=1.0, ls=:dash)\n",
    "savefig(\"../articulo/figures/VertHop01.pdf\")\n",
    "p"
   ]
  },
  {
   "cell_type": "markdown",
   "metadata": {},
   "source": [
    "## Statistics.\n",
    "\n",
    "Some Plots of interesting statistical propiertes, such as histograms."
   ]
  },
  {
   "cell_type": "code",
   "execution_count": 33,
   "metadata": {},
   "outputs": [],
   "source": [
    "using StatsBase"
   ]
  },
  {
   "cell_type": "code",
   "execution_count": 34,
   "metadata": {},
   "outputs": [
    {
     "ename": "MethodError",
     "evalue": "MethodError: no method matching dynamics(::Float64, ::Int64, ::Float64, ::Int64)\nClosest candidates are:\n  dynamics(::Any, ::Any, ::Any, ::Any, !Matched::Any) at /home/karel/postdocSanders/TwoDiskinaRectangle/julia_code/discs_in_box3D.jl:75",
     "output_type": "error",
     "traceback": [
      "MethodError: no method matching dynamics(::Float64, ::Int64, ::Float64, ::Int64)\nClosest candidates are:\n  dynamics(::Any, ::Any, ::Any, ::Any, !Matched::Any) at /home/karel/postdocSanders/TwoDiskinaRectangle/julia_code/discs_in_box3D.jl:75",
      "",
      "Stacktrace:",
      " [1] macro expansion at ./In[34]:22 [inlined]",
      " [2] macro expansion at ./util.jl:175 [inlined]",
      " [3] top-level scope at ./In[34]:17"
     ]
    }
   ],
   "source": [
    "radiosinteresantes=(0.01, 0.075, 0.125, 0.15, 0.2, 0.24)\n",
    "# radiosinteresantes=(0.01, 0.125, 0.24)\n",
    "\n",
    "nevents=10^4\n",
    "\n",
    "thopforhisto=Dict{Float64, Array}()\n",
    "\n",
    "binlim=10\n",
    "paso=0.5\n",
    "rangobins=0:paso:binlim\n",
    "rangoplot=rangobins[1:end-1].+paso./2\n",
    "\n",
    "hth=Dict{Float64, Any}()\n",
    "\n",
    " w,h=1.5,1\n",
    "num_collisions=10^7\n",
    "   \n",
    "\n",
    "@time for r in radiosinteresantes\n",
    "    w,h=1.5,1\n",
    "   # rs, num_vert_hopping_times, exact_vert_hopping_times , vhsigma, vhoperror = simulation_vert_hopping(w, h, nevents);\n",
    "    times, positions, velocities, collision_types = dynamics(w, h, r, num_collisions);\n",
    "    thopforhisto[r] = horizontal_hopping_times(times, positions, velocities);\n",
    "    \n",
    "    #normalized histograms\n",
    "    aux=fit(Histogram, diff(thopforhisto[r]), rangobins, closed=:left)\n",
    "    \n",
    "    hth[r]=aux.weights./sum(aux.weights)\n",
    "    \n",
    "    println(\" vamos en el  r=\",r)\n",
    "    \n",
    "end"
   ]
  },
  {
   "cell_type": "code",
   "execution_count": 35,
   "metadata": {},
   "outputs": [
    {
     "ename": "KeyError",
     "evalue": "KeyError: key 0.01 not found",
     "output_type": "error",
     "traceback": [
      "KeyError: key 0.01 not found",
      "",
      "Stacktrace:",
      " [1] getindex(::Dict{Float64,Any}, ::Float64) at ./dict.jl:477",
      " [2] top-level scope at ./In[35]:3"
     ]
    }
   ],
   "source": [
    "p=plot(xlim=(0,binlim), xlabel=\"Time of hop\", title=\"Freq\")\n",
    "for r in radiosinteresantes\n",
    "    bar!(rangoplot.+r,hth[r], lc=:match, alpha=0.75,bar_width=0.1, label=\"$r\")\n",
    "end\n",
    "savefig(\"histogramahorizontalhopsemidecente01.png\")\n",
    "p"
   ]
  },
  {
   "cell_type": "code",
   "execution_count": 36,
   "metadata": {},
   "outputs": [
    {
     "data": {
      "text/plain": [
       "0.01"
      ]
     },
     "execution_count": 36,
     "metadata": {},
     "output_type": "execute_result"
    }
   ],
   "source": [
    "hth=Dict{Float64, Any}()\n",
    "r=0.01"
   ]
  },
  {
   "cell_type": "code",
   "execution_count": 37,
   "metadata": {},
   "outputs": [],
   "source": [
    "for r in radiosinteresantes\n",
    "hth[r]=1\n",
    "end"
   ]
  },
  {
   "cell_type": "code",
   "execution_count": 38,
   "metadata": {},
   "outputs": [
    {
     "data": {
      "text/plain": [
       "Dict{Float64,Any} with 6 entries:\n",
       "  0.15  => 1\n",
       "  0.01  => 1\n",
       "  0.2   => 1\n",
       "  0.075 => 1\n",
       "  0.24  => 1\n",
       "  0.125 => 1"
      ]
     },
     "execution_count": 38,
     "metadata": {},
     "output_type": "execute_result"
    }
   ],
   "source": [
    "hth"
   ]
  },
  {
   "cell_type": "code",
   "execution_count": null,
   "metadata": {},
   "outputs": [],
   "source": []
  }
 ],
 "metadata": {
  "@webio": {
   "lastCommId": null,
   "lastKernelId": null
  },
  "kernelspec": {
   "display_name": "Julia 1.4.1",
   "language": "julia",
   "name": "julia-1.4"
  },
  "language_info": {
   "file_extension": ".jl",
   "mimetype": "application/julia",
   "name": "julia",
   "version": "1.4.1"
  },
  "toc": {
   "colors": {
    "hover_highlight": "#DAA520",
    "running_highlight": "#FF0000",
    "selected_highlight": "#FFD700"
   },
   "moveMenuLeft": true,
   "nav_menu": {
    "height": "30px",
    "width": "252px"
   },
   "navigate_menu": true,
   "number_sections": true,
   "sideBar": true,
   "threshold": "1",
   "toc_cell": false,
   "toc_section_display": "block",
   "toc_window_display": false
  }
 },
 "nbformat": 4,
 "nbformat_minor": 2
}
