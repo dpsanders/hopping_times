{
 "cells": [
  {
   "cell_type": "markdown",
   "metadata": {},
   "source": [
    "## Setup\n",
    "Calculation for the collision area for two n-dimensional spheres centered around ($x_1,\\ldots,x_n$) and ($y_1,\\ldots,y_n$) of radius $r$ inside a box of size $h_1,\\ldots,h_n$.\n",
    "\n",
    "- Since the spheres are inside the box, then $-a_n<x_n<a_n$ and $-a_n<y_n<a_n$ with $a_n = h_n/2 - r$.\n",
    "- Considering hard spheres $\\sqrt{\\sum_j {x_j - y_j}^2}>2r$.\n",
    "- Assuming hopping is possible for all n directions $0<r< \\min_j h_j/4$.\n",
    "\n",
    "## Collision between the spheres area\n",
    "\n",
    "A collision between the two spheres occurs when $\\sqrt(\\sum_k (x_j-y_j)^2)= 2r$\n",
    "\n",
    "$$ A =  \\prod_{j=1}^n \\int_{-a_j}^{a_j} dx_j \\int_{-a_j}^{a_j}  dy_j  |\\nabla(g)|\\delta(g) $$ \n",
    "with \n",
    "$$ g = \\sqrt{\\sum_k (x_j-y_j)^2} - 2r $$ \n",
    "We first calculate $|\\nabla(g)|$\n",
    "$$ \\frac{\\partial g}{\\partial x_k} = \\frac{x_k - y_k}{\\rho} $$\n",
    "$$ \\frac{\\partial g}{\\partial y_k} = \\frac{-x_k + y_k}{\\rho} $$\n",
    "with $\\rho =  \\sqrt{\\sum_j {(x_j - y_j)}^2} $\n",
    "So \n",
    "$$ |\\nabla(g)| = \\sqrt{\\sum_j \\left(\\frac{x_k - y_k}{\\rho}\\right)^2  + \\sum_j \\left(\\frac{-x_k + y_k}{\\rho}\\right)^2}  = \\sqrt{2}$$\n",
    "Then \n",
    "$$ A =  \\sqrt{2} \\prod_{j=1}^n \\int_{-a_j}^{a_j} dx_j \\int_{-a_j}^{a_j}  dy_j \\delta(g) $$ "
   ]
  },
  {
   "cell_type": "markdown",
   "metadata": {},
   "source": [
    "### Calculating the integral\n",
    "\n",
    "$$ A =  \\sqrt{2} \\prod_{j=1}^n \\int_{-a_j}^{a_j} dx_j \\int_{-a_j}^{a_j}  dy_j  \\delta(g) $$\n",
    "Coordinate change \n",
    "$$ z_j = x_j - y_j $$\n",
    "$$ w_j = (x_j + y_j)/2 $$\n",
    "the integral becomes\n",
    "$$ A =  \\sqrt{2} \\prod_{j=1}^n \\int_{-2a_j}^{2a_j} dz_j \\int_{-a_j + \\frac{|z_j|}{2}}^{a_j - \\frac{|z_j|}{2}}  dw_j \\delta(g) $$\n",
    "In terms of the $w_j$ and $z_j$ coordinates, $g = \\sqrt{\\sum_j z_j^2}-2r$.\n",
    "\n",
    "Integrating over the $w_j$s.\n",
    "$$ A =  \\sqrt{2} \\prod_{j=1}^n \\int_{-2a_j}^{2a_j} dz_j (2a_j -|z_j|) \\delta(g) $$\n",
    "To clarify the notation\n",
    "$$ A =   \\sqrt{2}\\int_{-2a_1}^{2a_1} dz_1 (2a_1 -|z_1|) \\int_{-2a_2}^{2a_2} dz_2 (2a_2 - |z_2|)  \\ldots \\int_{-2a_n}^{2a_n} dz_n (2a_n - |z_n|)  \\delta(g)  $$\n",
    "Since the integrand is even in all n-directions\n",
    "$$ A =  2^{n+1/2} \\int_{0}^{2a_1} dz_1 (2a_1 - z_1) \\int_{0}^{2a_2} dz_2 (2a_2 -z_2)   \\ldots \\int_{0}^{2a_n} dz_n (2a_n - z_n)  \\delta(g) $$"
   ]
  },
  {
   "cell_type": "markdown",
   "metadata": {},
   "source": [
    "#### Spherical coordinates\n",
    "Since $g$ only depends on the magnitude of the $z_j$ vector (and  $0<r< \\min_j h_j/4$), the integral simplifies when we transform to n-dimensional spherical coordinates.\n",
    "$$ z_1 = \\rho \\cos \\phi_1 $$\n",
    "$$ z_2 = \\rho \\sin \\phi_1 \\cos \\phi_2 $$\n",
    "$$ z_3 = \\rho \\sin \\phi_1 \\sin \\phi_2 \\cos \\phi_3$$\n",
    "$$ \\vdots $$\n",
    "$$ z_{n-1} = \\rho \\sin\\phi_1 \\ldots \\sin \\phi_{n-2} \\cos \\phi_{n-1} $$\n",
    "$$ z_n = \\rho \\sin\\phi_1 \\ldots \\sin \\phi_{n-2} \\sin \\phi_{n-1}$$\n",
    "and\n",
    "$$d z_1 \\ldots dz_n = \\rho^{n-1} \\sin^{n-2} \\phi_1 \\sin^{n-3} \\phi_2 \\ldots \\sin \\phi_{n-2} d\\rho d\\phi_1\\ldots d\\phi_n$$\n",
    "so\n",
    "$$ A =  2^{n+1/2} \\int_{0}^{\\infty} d \\rho \\int_{0}^{\\pi/2} d\\phi_1 \\ldots \\int_0^{\\pi/2} d\\phi_{n-1}  \\rho^{n-1} \\sin^{n-2} \\phi_1 \\sin^{n-3} \\phi_2 \\ldots \\sin \\phi_{n-2} \\prod_j (2a_j - \\rho u_j)  \\delta(g(\\rho))  $$\n",
    "with $u_j = z_j / \\rho$ which depends only on the angular coordinates. \n",
    "Considering that \n",
    "$$ \\prod_j (2a_j - \\rho u_j) = \\sum_{k=0}^{n} \\rho^k b_k $$ \n",
    "where $b_k$ is a function that depends exclusively on the angular coordinates. \n",
    "$$A  = \\sum_{k=0}^n   2^{n+1/2}  \\int_{0}^{\\pi/2} d\\phi_1 \\ldots \\int_0^{\\pi/2} d\\phi_{n-1} \\sin^{n-2} \\phi_1 \\sin^{n-3} \\phi_2 \\ldots \\sin \\phi_{n-2} b_k  \\int_{0}^{\\infty} \\rho^{n-1+k} d \\rho \\delta(\\rho-2r)$$"
   ]
  },
  {
   "cell_type": "code",
   "execution_count": 6,
   "metadata": {},
   "outputs": [
    {
     "data": {
      "text/latex": [
       "$\\displaystyle \\frac{\\left(2 r\\right)^{k + n}}{2 r}$"
      ],
      "text/plain": [
       "(2*r)**(k + n)/(2*r)"
      ]
     },
     "execution_count": 6,
     "metadata": {},
     "output_type": "execute_result"
    }
   ],
   "source": [
    "from sympy import Symbol, integrate, oo, DiracDelta, simplify\n",
    "rho = Symbol(\"rho\",real=True)\n",
    "r = Symbol(\"r\", real=True, positive=True)\n",
    "n = Symbol(\"n\",integer=True, positive=True)\n",
    "k = Symbol(\"k\",integer=True, nonnegative=True)\n",
    "simplify(integrate(rho**(n+k-1)*DiracDelta(rho -2*r),(rho, 0 , oo)))"
   ]
  },
  {
   "cell_type": "markdown",
   "metadata": {},
   "source": [
    "Solving the integral over $\\rho$ \n",
    "$$ A = \\sum_{k=0}^n  2^{2n+ k - 1/2} r^{k+n-1} \\int_{0}^{\\pi/2} d\\phi_1 \\ldots \\int_0^{\\pi/2} d\\phi_{n-1}  \\sin^{n-2} \\phi_1 \\sin^{n-3} \\phi_2 \\ldots \\sin \\phi_{n-2} b_k $$\n",
    "which we can write as\n",
    "$$ A = \\sum_{k=0}^n    2^{2n+ k - 1/2} r^{k+n-1} I_{k} $$\n",
    "$$I_k = \\int_{0}^{\\pi/2} d\\phi_1 \\ldots \\int_0^{\\pi/2} d\\phi_{n-1} \\sin^{n-2} \\phi_1 \\sin^{n-3} \\phi_2 \\ldots \\sin \\phi_{n-2} b_k $$\n",
    "which we had previously solved as \n",
    "$$I_k = (-1)^k \\left( \\sum_{i_{1}<\\ldots<i_{n-k}} \\prod_{l \\in (i_1, \\ldots, i_{n-k})} (2 a_l) \\right) F_k $$ "
   ]
  },
  {
   "cell_type": "markdown",
   "metadata": {},
   "source": [
    "The values of $F_k$ were also calculated previously \n",
    "$$ F_{k<n-1} =  \\frac{ \\pi^{n/2 - k/2}}{ 2^{n-k-1} \\Gamma(n/2 - k/2)} \\prod_{j=0}^{k-1} \\frac{1}{n-k+2j}  = \\frac{ \\pi^{n/2 - k/2} 2^{1-n}}{ \\Gamma(n/2 + k/2)}$$\n",
    "and \n",
    "$$ F_{n-1} = \\prod_{j=1}^{n-2} \\frac{1}{2n- 2j -1}  = \\frac{1}{(2n-3)!!} $$\n",
    "$$ F_n = \\frac{1}{2} \\prod_{j=1}^{n-2} \\frac{1}{2n-2j} = \\frac{1}{(2n-2)!!}$$"
   ]
  },
  {
   "cell_type": "markdown",
   "metadata": {},
   "source": [
    "### Putting it all together\n",
    "$$ A = \\sum_{k=0}^n    2^{2n+ k - 1/2} r^{k+n-1}  (-1)^k F_k \\left( \\sum_{i_{1}<\\ldots<i_{n-k}}\\prod_{l \\in (i_1, \\ldots, i_{n-k})} (2 a_l) \\right) $$\n",
    "\n",
    "Considering \n",
    "$$ A_k = (-1)^k \\sum_{i_{1}<\\ldots<i_{n-k}}\\prod_{l \\in (i_1, \\ldots, i_{n-k})} a_l $$ \n",
    "\n",
    "$$ A = \\sum_{k=0}^n    2^{3n - 1/2} r^{k+n-1} F_k A_k $$ \n",
    "So we have\n",
    "$$ A = \\sum_{k=0}^{n-2}  2^{3n - 1/2} r^{k+n-1}   F_k A_k\n",
    " + 2^{3n - 1/2} r^{k+n-1}   F_{n-1} A_{n-1}\n",
    " + 2^{3n - 1/2} r^{k+n-1}   F_{n} A_{n}\n",
    "$$\n",
    "\n",
    "$$ A = \\sum_{k=0}^{n-2}  2^{3n - 1/2} r^{k+n-1}   \\frac{ \\pi^{n/2 - k/2} 2^{1-n}}{ \\Gamma(n/2 + k/2)} A_k\n",
    " + \\frac{2^{3n - 1/2} r^{k+n-1}}{(2n-3)!!}  A_{n-1}\n",
    " + \\frac{2^{3n - 1/2} r^{k+n-1}}{(2n-2)!!}  A_{n}\n",
    "$$\n",
    "\n",
    "$$ A = \\sum_{k=0}^{n-2}  \\frac{ \\pi^{n/2 - k/2} 2^{2n+1/2} A_k}{ \\Gamma(n/2 + k/2)} r^{k+n-1}   \n",
    " + \\frac{2^{3n - 1/2}  A_{n-1}}{(2n-3)!!} r^{k+n-1}\n",
    " + \\frac{2^{3n - 1/2}A_{n} }{(2n-2)!!}  r^{k+n-1}\n",
    "$$\n"
   ]
  },
  {
   "cell_type": "markdown",
   "metadata": {},
   "source": [
    "### Comparing with result in ndimensions.tex\n",
    "\n",
    "The expression found by Karel for n=3 is \n",
    "$$  A_{col}=64 \\sqrt{2} ( 2 \\pi r^2 a_1a_2a_3 -  \\pi r^3 (a_1a_2 +a_2a_3 + a_3 a_1)\n",
    "  +4r^4/3 (a_1+a_2+a_3)\n",
    "  -r^5/2)\n",
    "$$\n",
    "Let's compare the two."
   ]
  },
  {
   "cell_type": "code",
   "execution_count": 1,
   "metadata": {},
   "outputs": [
    {
     "data": {
      "text/latex": [
       "$\\displaystyle 181.019335983756 \\pi A_{0} r^{3} + 90.5096679918781 \\pi A_{1} r^{4} + 120.679557322504 A_{2} r^{5} + 45.254833995939 A_{3} r^{6}$"
      ],
      "text/plain": [
       "181.019335983756*pi*A_0*r**3 + 90.5096679918781*pi*A_1*r**4 + 120.679557322504*A_2*r**5 + 45.254833995939*A_3*r**6"
      ]
     },
     "execution_count": 1,
     "metadata": {},
     "output_type": "execute_result"
    }
   ],
   "source": [
    "from sympy.functions.combinatorial.factorials import factorial2\n",
    "from sympy import symbols, gamma, pi, Symbol, Sum\n",
    "\n",
    "n = Symbol('n',integer=True, positive=True)\n",
    "k = Symbol('k', integer=True, nonnegative=True)\n",
    "r = Symbol('r', real=True)\n",
    "coefk = 2**(2*n+1/2)*pi**(n/2 -k/2)/gamma(n/2+k/2)\n",
    "coefnminus1 = 2**(3*n-1/2)/factorial2(2*n-3)\n",
    "coefn = 2**(3*n-1/2)/factorial2(2*n-2)\n",
    "A = lambda k: Symbol(f'A_{k}') \n",
    "AA = (coefk*A(0)*r**(k+n)).subs(k,0) + (coefk*A(1)*r**(k+n)).subs(k,1) + coefnminus1*A(2)*r**(2*n-1) + coefn*A(3)*r**(2*n)\n",
    "AA.subs(n,3)"
   ]
  },
  {
   "cell_type": "code",
   "execution_count": 5,
   "metadata": {},
   "outputs": [],
   "source": [
    "Ac = 64*2**(1/2)*(2*pi*r**2*A(0) +r**3*pi*A(1) + 4/3*r**4*A(2) + r**5/2*A(3))"
   ]
  },
  {
   "cell_type": "code",
   "execution_count": 6,
   "metadata": {},
   "outputs": [
    {
     "data": {
      "text/latex": [
       "$\\displaystyle 181.019335983756 \\pi A_{0} r^{2} + 90.5096679918781 \\pi A_{1} r^{3} + 120.679557322504 A_{2} r^{4} + 45.254833995939 A_{3} r^{5}$"
      ],
      "text/plain": [
       "181.019335983756*pi*A_0*r**2 + 90.5096679918781*pi*A_1*r**3 + 120.679557322504*A_2*r**4 + 45.254833995939*A_3*r**5"
      ]
     },
     "execution_count": 6,
     "metadata": {},
     "output_type": "execute_result"
    }
   ],
   "source": [
    "Ac"
   ]
  },
  {
   "cell_type": "markdown",
   "metadata": {},
   "source": [
    "And they match!!"
   ]
  }
 ],
 "metadata": {
  "kernelspec": {
   "display_name": "Python 3",
   "language": "python",
   "name": "python3"
  },
  "language_info": {
   "codemirror_mode": {
    "name": "ipython",
    "version": 3
   },
   "file_extension": ".py",
   "mimetype": "text/x-python",
   "name": "python",
   "nbconvert_exporter": "python",
   "pygments_lexer": "ipython3",
   "version": "3.8.6"
  }
 },
 "nbformat": 4,
 "nbformat_minor": 4
}
